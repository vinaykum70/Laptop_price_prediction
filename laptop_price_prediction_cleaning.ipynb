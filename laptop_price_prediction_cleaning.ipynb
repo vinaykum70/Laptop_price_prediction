{
 "cells": [
  {
   "cell_type": "markdown",
   "id": "f82b5350",
   "metadata": {},
   "source": [
    "## Bussiness Problem Understanding\n",
    "\n",
    "Elon Musk has started his own laptop company (Tesla Laptop) in India. He wants to give tough fights to big companies like Apple, Alienware, HP etc.\n",
    "\n",
    "He does not know how to estimate the price of laptops his company creates. In this competitive laptop market you cannot simply assume things. \n",
    "\n",
    "Musk wants to find out some relation between features of a Laptop(eg:- RAM, OS,  etc) and its selling price. But he is not so good at Data Mining.\n",
    "\n",
    "To solve this problem he already asked his Data Engineering team (from Twitter 🐥🤭) to collect laptop data from various competitors.\n",
    "\n",
    "Now he needs your (i.e Data Scientist’s) help to solve the following problem. 🥰"
   ]
  },
  {
   "cell_type": "markdown",
   "id": "5b2f725f",
   "metadata": {},
   "source": [
    "# Sprint - 1 (Data Analysis and Mining)\n",
    "\n",
    "## Musk’s Requirements\n",
    "\n",
    "- Build an interface (using streamlit) for Elon Musk where he can enter the laptop features like RAM Size, RAM Type, HDD, OS, etc. and get the price prediction.\n",
    "\n",
    "- Based on your Data Analysis and MIning skills, give recommendations to Elon Musk on how the pricing works in the laptop market.\n",
    "\n",
    "\n",
    "Note - This is real world data. It was scrapped from Flipkart on 21-12-2022 at 11:50 AM. \n"
   ]
  },
  {
   "cell_type": "markdown",
   "id": "006bebbc",
   "metadata": {},
   "source": [
    "# Sprint - 2 (ML Model Tuning)\n",
    "\n",
    "Congratulations! Elon Musk is happy with your models and insights that you have shared in the previous requirements. \n",
    "\n",
    "Now he wants you to test the models you have created for Underfitting and Overfitting. He wants you to build a best fit model.\n",
    "\n",
    "## Todo - \n",
    "\n",
    " - First try to check if the models you have created are a best fit or not.\n",
    " - See if applying cross validation helps improve your models performance."
   ]
  },
  {
   "cell_type": "code",
   "execution_count": 1,
   "id": "3b9d5472",
   "metadata": {},
   "outputs": [],
   "source": [
    "# Importing Libraries\n",
    "\n",
    "import numpy as np\n",
    "import pandas as pd\n",
    "import matplotlib.pyplot as plt\n",
    "import seaborn as sns"
   ]
  },
  {
   "cell_type": "code",
   "execution_count": 2,
   "id": "7c74f4f7",
   "metadata": {},
   "outputs": [
    {
     "data": {
      "text/html": [
       "<div>\n",
       "<style scoped>\n",
       "    .dataframe tbody tr th:only-of-type {\n",
       "        vertical-align: middle;\n",
       "    }\n",
       "\n",
       "    .dataframe tbody tr th {\n",
       "        vertical-align: top;\n",
       "    }\n",
       "\n",
       "    .dataframe thead th {\n",
       "        text-align: right;\n",
       "    }\n",
       "</style>\n",
       "<table border=\"1\" class=\"dataframe\">\n",
       "  <thead>\n",
       "    <tr style=\"text-align: right;\">\n",
       "      <th></th>\n",
       "      <th>Product</th>\n",
       "      <th>Rating</th>\n",
       "      <th>MRP</th>\n",
       "      <th>Feature</th>\n",
       "    </tr>\n",
       "  </thead>\n",
       "  <tbody>\n",
       "    <tr>\n",
       "      <th>0</th>\n",
       "      <td>Lenovo IdeaPad 3 Core i3 11th Gen - (8 GB/256 ...</td>\n",
       "      <td>4.2</td>\n",
       "      <td>₹36,990</td>\n",
       "      <td>Intel Core i3 Processor (11th Gen)8 GB DDR4 RA...</td>\n",
       "    </tr>\n",
       "    <tr>\n",
       "      <th>1</th>\n",
       "      <td>Lenovo IdeaPad 3 Core i3 11th Gen - (8 GB/512 ...</td>\n",
       "      <td>4.2</td>\n",
       "      <td>₹39,990</td>\n",
       "      <td>Intel Core i3 Processor (11th Gen)8 GB DDR4 RA...</td>\n",
       "    </tr>\n",
       "    <tr>\n",
       "      <th>2</th>\n",
       "      <td>ASUS VivoBook 15 (2022) Core i3 10th Gen - (8 ...</td>\n",
       "      <td>4.3</td>\n",
       "      <td>₹32,990</td>\n",
       "      <td>Intel Core i3 Processor (10th Gen)8 GB DDR4 RA...</td>\n",
       "    </tr>\n",
       "    <tr>\n",
       "      <th>3</th>\n",
       "      <td>HP Pavilion Ryzen 5 Hexa Core AMD R5-5600H - (...</td>\n",
       "      <td>4.4</td>\n",
       "      <td>₹49,990</td>\n",
       "      <td>AMD Ryzen 5 Hexa Core Processor8 GB DDR4 RAM64...</td>\n",
       "    </tr>\n",
       "    <tr>\n",
       "      <th>4</th>\n",
       "      <td>ASUS TUF Gaming F15 Core i5 10th Gen - (8 GB/5...</td>\n",
       "      <td>4.4</td>\n",
       "      <td>₹49,990</td>\n",
       "      <td>Intel Core i5 Processor (10th Gen)8 GB DDR4 RA...</td>\n",
       "    </tr>\n",
       "  </tbody>\n",
       "</table>\n",
       "</div>"
      ],
      "text/plain": [
       "                                             Product  Rating      MRP  \\\n",
       "0  Lenovo IdeaPad 3 Core i3 11th Gen - (8 GB/256 ...     4.2  ₹36,990   \n",
       "1  Lenovo IdeaPad 3 Core i3 11th Gen - (8 GB/512 ...     4.2  ₹39,990   \n",
       "2  ASUS VivoBook 15 (2022) Core i3 10th Gen - (8 ...     4.3  ₹32,990   \n",
       "3  HP Pavilion Ryzen 5 Hexa Core AMD R5-5600H - (...     4.4  ₹49,990   \n",
       "4  ASUS TUF Gaming F15 Core i5 10th Gen - (8 GB/5...     4.4  ₹49,990   \n",
       "\n",
       "                                             Feature  \n",
       "0  Intel Core i3 Processor (11th Gen)8 GB DDR4 RA...  \n",
       "1  Intel Core i3 Processor (11th Gen)8 GB DDR4 RA...  \n",
       "2  Intel Core i3 Processor (10th Gen)8 GB DDR4 RA...  \n",
       "3  AMD Ryzen 5 Hexa Core Processor8 GB DDR4 RAM64...  \n",
       "4  Intel Core i5 Processor (10th Gen)8 GB DDR4 RA...  "
      ]
     },
     "execution_count": 2,
     "metadata": {},
     "output_type": "execute_result"
    }
   ],
   "source": [
    "# Loading dataset\n",
    "\n",
    "df = pd.read_csv('laptop_details.csv')\n",
    "\n",
    "df.head()"
   ]
  },
  {
   "cell_type": "markdown",
   "id": "52228868",
   "metadata": {},
   "source": [
    "## Data understanding"
   ]
  },
  {
   "cell_type": "code",
   "execution_count": 3,
   "id": "b77d4aca",
   "metadata": {},
   "outputs": [
    {
     "data": {
      "text/plain": [
       "(720, 4)"
      ]
     },
     "execution_count": 3,
     "metadata": {},
     "output_type": "execute_result"
    }
   ],
   "source": [
    "df.shape"
   ]
  },
  {
   "cell_type": "code",
   "execution_count": 4,
   "id": "0ea80bcf",
   "metadata": {},
   "outputs": [
    {
     "name": "stdout",
     "output_type": "stream",
     "text": [
      "<class 'pandas.core.frame.DataFrame'>\n",
      "RangeIndex: 720 entries, 0 to 719\n",
      "Data columns (total 4 columns):\n",
      " #   Column   Non-Null Count  Dtype  \n",
      "---  ------   --------------  -----  \n",
      " 0   Product  720 non-null    object \n",
      " 1   Rating   581 non-null    float64\n",
      " 2   MRP      720 non-null    object \n",
      " 3   Feature  720 non-null    object \n",
      "dtypes: float64(1), object(3)\n",
      "memory usage: 22.6+ KB\n"
     ]
    }
   ],
   "source": [
    "df.info()"
   ]
  },
  {
   "cell_type": "code",
   "execution_count": 5,
   "id": "75d6acfd",
   "metadata": {},
   "outputs": [
    {
     "data": {
      "text/html": [
       "<div>\n",
       "<style scoped>\n",
       "    .dataframe tbody tr th:only-of-type {\n",
       "        vertical-align: middle;\n",
       "    }\n",
       "\n",
       "    .dataframe tbody tr th {\n",
       "        vertical-align: top;\n",
       "    }\n",
       "\n",
       "    .dataframe thead th {\n",
       "        text-align: right;\n",
       "    }\n",
       "</style>\n",
       "<table border=\"1\" class=\"dataframe\">\n",
       "  <thead>\n",
       "    <tr style=\"text-align: right;\">\n",
       "      <th></th>\n",
       "      <th>Rating</th>\n",
       "    </tr>\n",
       "  </thead>\n",
       "  <tbody>\n",
       "    <tr>\n",
       "      <th>count</th>\n",
       "      <td>581.000000</td>\n",
       "    </tr>\n",
       "    <tr>\n",
       "      <th>mean</th>\n",
       "      <td>4.321170</td>\n",
       "    </tr>\n",
       "    <tr>\n",
       "      <th>std</th>\n",
       "      <td>0.282872</td>\n",
       "    </tr>\n",
       "    <tr>\n",
       "      <th>min</th>\n",
       "      <td>3.000000</td>\n",
       "    </tr>\n",
       "    <tr>\n",
       "      <th>25%</th>\n",
       "      <td>4.200000</td>\n",
       "    </tr>\n",
       "    <tr>\n",
       "      <th>50%</th>\n",
       "      <td>4.300000</td>\n",
       "    </tr>\n",
       "    <tr>\n",
       "      <th>75%</th>\n",
       "      <td>4.500000</td>\n",
       "    </tr>\n",
       "    <tr>\n",
       "      <th>max</th>\n",
       "      <td>5.000000</td>\n",
       "    </tr>\n",
       "  </tbody>\n",
       "</table>\n",
       "</div>"
      ],
      "text/plain": [
       "           Rating\n",
       "count  581.000000\n",
       "mean     4.321170\n",
       "std      0.282872\n",
       "min      3.000000\n",
       "25%      4.200000\n",
       "50%      4.300000\n",
       "75%      4.500000\n",
       "max      5.000000"
      ]
     },
     "execution_count": 5,
     "metadata": {},
     "output_type": "execute_result"
    }
   ],
   "source": [
    "df.describe()"
   ]
  },
  {
   "cell_type": "code",
   "execution_count": 6,
   "id": "d15d1fe2",
   "metadata": {},
   "outputs": [
    {
     "data": {
      "text/plain": [
       "Product      0\n",
       "Rating     139\n",
       "MRP          0\n",
       "Feature      0\n",
       "dtype: int64"
      ]
     },
     "execution_count": 6,
     "metadata": {},
     "output_type": "execute_result"
    }
   ],
   "source": [
    "df.isnull().sum()"
   ]
  },
  {
   "cell_type": "markdown",
   "id": "61302fcd",
   "metadata": {},
   "source": [
    "## Data Preprocessing\n",
    "\n",
    "This data needs to be lots of feature engineering because all the Features need to be process first.\n",
    "\n",
    "- From the above observation it is clear that MRP column is object type but it should be numeric type. So we have to first convert it to numeric type. \n",
    "\n",
    "- Feature column has lots of data in single column. So we have separate all the data in different columns.\n",
    "\n"
   ]
  },
  {
   "cell_type": "code",
   "execution_count": 7,
   "id": "0492ad20",
   "metadata": {},
   "outputs": [
    {
     "data": {
      "text/plain": [
       "0    ₹36,990\n",
       "1    ₹39,990\n",
       "2    ₹32,990\n",
       "3    ₹49,990\n",
       "4    ₹49,990\n",
       "Name: MRP, dtype: object"
      ]
     },
     "execution_count": 7,
     "metadata": {},
     "output_type": "execute_result"
    }
   ],
   "source": [
    "df['MRP'].head()"
   ]
  },
  {
   "cell_type": "code",
   "execution_count": 8,
   "id": "389476af",
   "metadata": {},
   "outputs": [],
   "source": [
    "df['MRP'] = df['MRP'].str.replace('₹','')"
   ]
  },
  {
   "cell_type": "code",
   "execution_count": 9,
   "id": "bc33b40d",
   "metadata": {},
   "outputs": [],
   "source": [
    "# Removing comma and convert into numeric type\n",
    "df['MRP'] = df['MRP'].str.replace(',','').astype('float64')"
   ]
  },
  {
   "cell_type": "code",
   "execution_count": 10,
   "id": "7d383e8f",
   "metadata": {},
   "outputs": [
    {
     "data": {
      "text/plain": [
       "0    36990.0\n",
       "1    39990.0\n",
       "2    32990.0\n",
       "3    49990.0\n",
       "4    49990.0\n",
       "Name: MRP, dtype: float64"
      ]
     },
     "execution_count": 10,
     "metadata": {},
     "output_type": "execute_result"
    }
   ],
   "source": [
    "df['MRP'].head()"
   ]
  },
  {
   "cell_type": "code",
   "execution_count": 11,
   "id": "9c6d049f",
   "metadata": {},
   "outputs": [
    {
     "name": "stdout",
     "output_type": "stream",
     "text": [
      "Minimum value :  14990.0\n",
      "Maximum value :  434830.0\n",
      "Mean value :  81605.8375\n",
      "Median value :  59990.0\n"
     ]
    }
   ],
   "source": [
    "print(\"Minimum value : \", df['MRP'].min())\n",
    "print(\"Maximum value : \", df['MRP'].max())\n",
    "print(\"Mean value : \", df['MRP'].mean())\n",
    "print(\"Median value : \", df['MRP'].median())"
   ]
  },
  {
   "cell_type": "code",
   "execution_count": 12,
   "id": "753245bf",
   "metadata": {},
   "outputs": [
    {
     "name": "stdout",
     "output_type": "stream",
     "text": [
      "25% quantile : 38996.75\n",
      "75% quantile : 95240.0\n"
     ]
    }
   ],
   "source": [
    "print(\"25% quantile :\",df['MRP'].quantile(0.25))\n",
    "\n",
    "print(\"75% quantile :\",df['MRP'].quantile(0.75))\n"
   ]
  },
  {
   "cell_type": "code",
   "execution_count": 13,
   "id": "87f2cf37",
   "metadata": {},
   "outputs": [
    {
     "data": {
      "text/plain": [
       "<AxesSubplot:>"
      ]
     },
     "execution_count": 13,
     "metadata": {},
     "output_type": "execute_result"
    },
    {
     "data": {
      "image/png": "[encoded data removed]",
      "text/plain": [
       "<Figure size 432x288 with 1 Axes>"
      ]
     },
     "metadata": {
      "needs_background": "light"
     },
     "output_type": "display_data"
    }
   ],
   "source": [
    "df['MRP'].plot(kind='box')"
   ]
  },
  {
   "cell_type": "code",
   "execution_count": 14,
   "id": "e5ec8bfe",
   "metadata": {},
   "outputs": [
    {
     "data": {
      "text/plain": [
       "1.8231420803009557"
      ]
     },
     "execution_count": 14,
     "metadata": {},
     "output_type": "execute_result"
    },
    {
     "data": {
      "image/png": "[encoded data removed]",
      "text/plain": [
       "<Figure size 432x288 with 1 Axes>"
      ]
     },
     "metadata": {
      "needs_background": "light"
     },
     "output_type": "display_data"
    }
   ],
   "source": [
    "df['MRP'].plot(kind='kde')\n",
    "\n",
    "df['MRP'].skew()"
   ]
  },
  {
   "cell_type": "markdown",
   "id": "e52a76d9",
   "metadata": {},
   "source": [
    "## Data Transformation"
   ]
  },
  {
   "cell_type": "code",
   "execution_count": 15,
   "id": "a749b347",
   "metadata": {},
   "outputs": [
    {
     "data": {
      "text/plain": [
       "0.7301038030555801"
      ]
     },
     "execution_count": 15,
     "metadata": {},
     "output_type": "execute_result"
    },
    {
     "data": {
      "image/png": "[encoded data removed]",
      "text/plain": [
       "<Figure size 432x288 with 1 Axes>"
      ]
     },
     "metadata": {
      "needs_background": "light"
     },
     "output_type": "display_data"
    }
   ],
   "source": [
    "#Root Transformation\n",
    "\n",
    "root = df['MRP']**(1/8)\n",
    "\n",
    "root.plot(kind='kde')\n",
    "\n",
    "root.skew()"
   ]
  },
  {
   "cell_type": "code",
   "execution_count": 16,
   "id": "5b7cac03",
   "metadata": {},
   "outputs": [
    {
     "data": {
      "text/plain": [
       "0.595273916743405"
      ]
     },
     "execution_count": 16,
     "metadata": {},
     "output_type": "execute_result"
    },
    {
     "data": {
      "image/png": "[encoded data removed]",
      "text/plain": [
       "<Figure size 432x288 with 1 Axes>"
      ]
     },
     "metadata": {
      "needs_background": "light"
     },
     "output_type": "display_data"
    }
   ],
   "source": [
    "# Logarithmic Transformation\n",
    "\n",
    "log = np.log(df['MRP']+1)\n",
    "\n",
    "log.plot(kind='kde')\n",
    "\n",
    "log.skew()"
   ]
  },
  {
   "cell_type": "code",
   "execution_count": null,
   "id": "f5abc765",
   "metadata": {},
   "outputs": [],
   "source": []
  },
  {
   "cell_type": "code",
   "execution_count": 17,
   "id": "b0cb190d",
   "metadata": {},
   "outputs": [],
   "source": [
    "df['MRP'] = log"
   ]
  },
  {
   "cell_type": "markdown",
   "id": "a0bd1adc",
   "metadata": {},
   "source": [
    "### Outliers Treatment for MRP column"
   ]
  },
  {
   "cell_type": "code",
   "execution_count": null,
   "id": "83aa4f43",
   "metadata": {},
   "outputs": [],
   "source": []
  },
  {
   "cell_type": "code",
   "execution_count": 18,
   "id": "829701a3",
   "metadata": {},
   "outputs": [
    {
     "data": {
      "text/plain": [
       "0      10.518430\n",
       "1      10.596410\n",
       "2      10.403990\n",
       "3      10.819598\n",
       "4      10.819598\n",
       "         ...    \n",
       "715    10.064373\n",
       "716    11.204918\n",
       "717    12.180709\n",
       "718    11.743966\n",
       "719    10.839404\n",
       "Name: MRP, Length: 720, dtype: float64"
      ]
     },
     "execution_count": 18,
     "metadata": {},
     "output_type": "execute_result"
    }
   ],
   "source": [
    "from feature_engine.outliers import Winsorizer\n",
    "\n",
    "win = Winsorizer(capping_method = 'iqr' , tail = 'both', fold=1.5, variables=['MRP'])\n",
    "\n",
    "df['MRP'] = win.fit_transform(df[['MRP']])\n",
    "\n",
    "df['MRP']"
   ]
  },
  {
   "cell_type": "code",
   "execution_count": null,
   "id": "7fa2f264",
   "metadata": {},
   "outputs": [],
   "source": []
  },
  {
   "cell_type": "code",
   "execution_count": 19,
   "id": "2fe7b928",
   "metadata": {},
   "outputs": [
    {
     "data": {
      "text/plain": [
       "<AxesSubplot:>"
      ]
     },
     "execution_count": 19,
     "metadata": {},
     "output_type": "execute_result"
    },
    {
     "data": {
      "image/png": "[encoded data removed]",
      "text/plain": [
       "<Figure size 432x288 with 1 Axes>"
      ]
     },
     "metadata": {
      "needs_background": "light"
     },
     "output_type": "display_data"
    }
   ],
   "source": [
    "df['MRP'].plot(kind='box')"
   ]
  },
  {
   "cell_type": "markdown",
   "id": "e89753c5",
   "metadata": {},
   "source": [
    "## Feature Engineering"
   ]
  },
  {
   "cell_type": "code",
   "execution_count": 20,
   "id": "149d61d7",
   "metadata": {},
   "outputs": [
    {
     "data": {
      "text/html": [
       "<div>\n",
       "<style scoped>\n",
       "    .dataframe tbody tr th:only-of-type {\n",
       "        vertical-align: middle;\n",
       "    }\n",
       "\n",
       "    .dataframe tbody tr th {\n",
       "        vertical-align: top;\n",
       "    }\n",
       "\n",
       "    .dataframe thead th {\n",
       "        text-align: right;\n",
       "    }\n",
       "</style>\n",
       "<table border=\"1\" class=\"dataframe\">\n",
       "  <thead>\n",
       "    <tr style=\"text-align: right;\">\n",
       "      <th></th>\n",
       "      <th>Product</th>\n",
       "      <th>Rating</th>\n",
       "      <th>MRP</th>\n",
       "      <th>Feature</th>\n",
       "    </tr>\n",
       "  </thead>\n",
       "  <tbody>\n",
       "    <tr>\n",
       "      <th>0</th>\n",
       "      <td>Lenovo IdeaPad 3 Core i3 11th Gen - (8 GB/256 ...</td>\n",
       "      <td>4.2</td>\n",
       "      <td>10.518430</td>\n",
       "      <td>Intel Core i3 Processor (11th Gen)8 GB DDR4 RA...</td>\n",
       "    </tr>\n",
       "    <tr>\n",
       "      <th>1</th>\n",
       "      <td>Lenovo IdeaPad 3 Core i3 11th Gen - (8 GB/512 ...</td>\n",
       "      <td>4.2</td>\n",
       "      <td>10.596410</td>\n",
       "      <td>Intel Core i3 Processor (11th Gen)8 GB DDR4 RA...</td>\n",
       "    </tr>\n",
       "    <tr>\n",
       "      <th>2</th>\n",
       "      <td>ASUS VivoBook 15 (2022) Core i3 10th Gen - (8 ...</td>\n",
       "      <td>4.3</td>\n",
       "      <td>10.403990</td>\n",
       "      <td>Intel Core i3 Processor (10th Gen)8 GB DDR4 RA...</td>\n",
       "    </tr>\n",
       "    <tr>\n",
       "      <th>3</th>\n",
       "      <td>HP Pavilion Ryzen 5 Hexa Core AMD R5-5600H - (...</td>\n",
       "      <td>4.4</td>\n",
       "      <td>10.819598</td>\n",
       "      <td>AMD Ryzen 5 Hexa Core Processor8 GB DDR4 RAM64...</td>\n",
       "    </tr>\n",
       "    <tr>\n",
       "      <th>4</th>\n",
       "      <td>ASUS TUF Gaming F15 Core i5 10th Gen - (8 GB/5...</td>\n",
       "      <td>4.4</td>\n",
       "      <td>10.819598</td>\n",
       "      <td>Intel Core i5 Processor (10th Gen)8 GB DDR4 RA...</td>\n",
       "    </tr>\n",
       "  </tbody>\n",
       "</table>\n",
       "</div>"
      ],
      "text/plain": [
       "                                             Product  Rating        MRP  \\\n",
       "0  Lenovo IdeaPad 3 Core i3 11th Gen - (8 GB/256 ...     4.2  10.518430   \n",
       "1  Lenovo IdeaPad 3 Core i3 11th Gen - (8 GB/512 ...     4.2  10.596410   \n",
       "2  ASUS VivoBook 15 (2022) Core i3 10th Gen - (8 ...     4.3  10.403990   \n",
       "3  HP Pavilion Ryzen 5 Hexa Core AMD R5-5600H - (...     4.4  10.819598   \n",
       "4  ASUS TUF Gaming F15 Core i5 10th Gen - (8 GB/5...     4.4  10.819598   \n",
       "\n",
       "                                             Feature  \n",
       "0  Intel Core i3 Processor (11th Gen)8 GB DDR4 RA...  \n",
       "1  Intel Core i3 Processor (11th Gen)8 GB DDR4 RA...  \n",
       "2  Intel Core i3 Processor (10th Gen)8 GB DDR4 RA...  \n",
       "3  AMD Ryzen 5 Hexa Core Processor8 GB DDR4 RAM64...  \n",
       "4  Intel Core i5 Processor (10th Gen)8 GB DDR4 RA...  "
      ]
     },
     "execution_count": 20,
     "metadata": {},
     "output_type": "execute_result"
    }
   ],
   "source": [
    "df.head()"
   ]
  },
  {
   "cell_type": "code",
   "execution_count": 21,
   "id": "bf4d9ca4",
   "metadata": {},
   "outputs": [
    {
     "data": {
      "text/plain": [
       "'Lenovo IdeaPad 3 Core i3 11th Gen - (8 GB/256 GB SSD/Windows 11 Home) 14ITL05 Thin and Light Laptop'"
      ]
     },
     "execution_count": 21,
     "metadata": {},
     "output_type": "execute_result"
    }
   ],
   "source": [
    "df['Product'][0]"
   ]
  },
  {
   "cell_type": "code",
   "execution_count": 22,
   "id": "92029e1d",
   "metadata": {},
   "outputs": [
    {
     "data": {
      "text/plain": [
       "'Intel Core i3 Processor (11th Gen)8 GB DDR4 RAM64 bit Windows 11 Operating System256 GB SSD35.56 cm (14 inch) DisplayOffice Home and Student 20212 Year Onsite�Warranty'"
      ]
     },
     "execution_count": 22,
     "metadata": {},
     "output_type": "execute_result"
    }
   ],
   "source": [
    "df['Feature'][0]"
   ]
  },
  {
   "cell_type": "markdown",
   "id": "f32dd25b",
   "metadata": {},
   "source": [
    "#### Extracting Brand Name from Product column"
   ]
  },
  {
   "cell_type": "code",
   "execution_count": 23,
   "id": "faddcae6",
   "metadata": {},
   "outputs": [
    {
     "data": {
      "text/html": [
       "<div>\n",
       "<style scoped>\n",
       "    .dataframe tbody tr th:only-of-type {\n",
       "        vertical-align: middle;\n",
       "    }\n",
       "\n",
       "    .dataframe tbody tr th {\n",
       "        vertical-align: top;\n",
       "    }\n",
       "\n",
       "    .dataframe thead th {\n",
       "        text-align: right;\n",
       "    }\n",
       "</style>\n",
       "<table border=\"1\" class=\"dataframe\">\n",
       "  <thead>\n",
       "    <tr style=\"text-align: right;\">\n",
       "      <th></th>\n",
       "      <th>0</th>\n",
       "      <th>1</th>\n",
       "      <th>2</th>\n",
       "      <th>3</th>\n",
       "    </tr>\n",
       "  </thead>\n",
       "  <tbody>\n",
       "    <tr>\n",
       "      <th>0</th>\n",
       "      <td>Lenovo IdeaPad 3 Core i3 11th Gen - (8</td>\n",
       "      <td>/256</td>\n",
       "      <td>SSD/Windows 11 Home) 14ITL05 Thin and Light L...</td>\n",
       "      <td>None</td>\n",
       "    </tr>\n",
       "    <tr>\n",
       "      <th>1</th>\n",
       "      <td>Lenovo IdeaPad 3 Core i3 11th Gen - (8</td>\n",
       "      <td>/512</td>\n",
       "      <td>SSD/Windows 11 Home) 82H801L7IN | 82H802FJIN ...</td>\n",
       "      <td>None</td>\n",
       "    </tr>\n",
       "    <tr>\n",
       "      <th>2</th>\n",
       "      <td>ASUS VivoBook 15 (2022) Core i3 10th Gen - (8</td>\n",
       "      <td>/512</td>\n",
       "      <td>SSD/Windows 11 Home) X515JA-EJ362WS | X515JA-...</td>\n",
       "      <td>None</td>\n",
       "    </tr>\n",
       "    <tr>\n",
       "      <th>3</th>\n",
       "      <td>HP Pavilion Ryzen 5 Hexa Core AMD R5-5600H - (8</td>\n",
       "      <td>/512</td>\n",
       "      <td>SSD/Windows 10/4</td>\n",
       "      <td>Graphics/NVIDIA GeForce ...</td>\n",
       "    </tr>\n",
       "    <tr>\n",
       "      <th>4</th>\n",
       "      <td>ASUS TUF Gaming F15 Core i5 10th Gen - (8</td>\n",
       "      <td>/512</td>\n",
       "      <td>SSD/Windows 11 Home/4</td>\n",
       "      <td>Graphics/NVIDIA GeForce G...</td>\n",
       "    </tr>\n",
       "    <tr>\n",
       "      <th>...</th>\n",
       "      <td>...</td>\n",
       "      <td>...</td>\n",
       "      <td>...</td>\n",
       "      <td>...</td>\n",
       "    </tr>\n",
       "    <tr>\n",
       "      <th>715</th>\n",
       "      <td>ASUS Chromebook Flip Touch Celeron Dual Core -...</td>\n",
       "      <td>/64</td>\n",
       "      <td>EMMC Storage/Chrome OS) C214MA-BU0452 Chrom...</td>\n",
       "      <td>None</td>\n",
       "    </tr>\n",
       "    <tr>\n",
       "      <th>716</th>\n",
       "      <td>Lenovo IdeaPad Gaming 3 Ryzen 7 Octa Core AMD ...</td>\n",
       "      <td>/512</td>\n",
       "      <td>SSD/Windows 11 Home/4</td>\n",
       "      <td>Graphic...</td>\n",
       "    </tr>\n",
       "    <tr>\n",
       "      <th>717</th>\n",
       "      <td>ASUS ROG Zephyrus G15 Ryzen 9 Octa Core 6900HS...</td>\n",
       "      <td>/1 TB SSD/Windows 11 Home/8</td>\n",
       "      <td>Graphics/NVIDIA ...</td>\n",
       "      <td>None</td>\n",
       "    </tr>\n",
       "    <tr>\n",
       "      <th>718</th>\n",
       "      <td>ASUS Zenbook Flip 14 OLED (2022) Touch Panel C...</td>\n",
       "      <td>/512</td>\n",
       "      <td>SSD/Windows 11 Home) UP5...</td>\n",
       "      <td>None</td>\n",
       "    </tr>\n",
       "    <tr>\n",
       "      <th>719</th>\n",
       "      <td>Lenovo Ideapad Slim 3i Core i5 10th Gen - (8</td>\n",
       "      <td>/1 TB HDD/256</td>\n",
       "      <td>SSD/Windows 10 Home) 15IIL05 Laptop</td>\n",
       "      <td>None</td>\n",
       "    </tr>\n",
       "  </tbody>\n",
       "</table>\n",
       "<p>720 rows × 4 columns</p>\n",
       "</div>"
      ],
      "text/plain": [
       "                                                     0  \\\n",
       "0              Lenovo IdeaPad 3 Core i3 11th Gen - (8    \n",
       "1              Lenovo IdeaPad 3 Core i3 11th Gen - (8    \n",
       "2       ASUS VivoBook 15 (2022) Core i3 10th Gen - (8    \n",
       "3     HP Pavilion Ryzen 5 Hexa Core AMD R5-5600H - (8    \n",
       "4           ASUS TUF Gaming F15 Core i5 10th Gen - (8    \n",
       "..                                                 ...   \n",
       "715  ASUS Chromebook Flip Touch Celeron Dual Core -...   \n",
       "716  Lenovo IdeaPad Gaming 3 Ryzen 7 Octa Core AMD ...   \n",
       "717  ASUS ROG Zephyrus G15 Ryzen 9 Octa Core 6900HS...   \n",
       "718  ASUS Zenbook Flip 14 OLED (2022) Touch Panel C...   \n",
       "719      Lenovo Ideapad Slim 3i Core i5 10th Gen - (8    \n",
       "\n",
       "                                1  \\\n",
       "0                           /256    \n",
       "1                           /512    \n",
       "2                           /512    \n",
       "3                           /512    \n",
       "4                           /512    \n",
       "..                            ...   \n",
       "715                          /64    \n",
       "716                         /512    \n",
       "717  /1 TB SSD/Windows 11 Home/8    \n",
       "718                         /512    \n",
       "719                /1 TB HDD/256    \n",
       "\n",
       "                                                     2  \\\n",
       "0     SSD/Windows 11 Home) 14ITL05 Thin and Light L...   \n",
       "1     SSD/Windows 11 Home) 82H801L7IN | 82H802FJIN ...   \n",
       "2     SSD/Windows 11 Home) X515JA-EJ362WS | X515JA-...   \n",
       "3                                    SSD/Windows 10/4    \n",
       "4                               SSD/Windows 11 Home/4    \n",
       "..                                                 ...   \n",
       "715     EMMC Storage/Chrome OS) C214MA-BU0452 Chrom...   \n",
       "716                             SSD/Windows 11 Home/4    \n",
       "717                                Graphics/NVIDIA ...   \n",
       "718                        SSD/Windows 11 Home) UP5...   \n",
       "719                SSD/Windows 10 Home) 15IIL05 Laptop   \n",
       "\n",
       "                                 3  \n",
       "0                             None  \n",
       "1                             None  \n",
       "2                             None  \n",
       "3      Graphics/NVIDIA GeForce ...  \n",
       "4     Graphics/NVIDIA GeForce G...  \n",
       "..                             ...  \n",
       "715                           None  \n",
       "716                     Graphic...  \n",
       "717                           None  \n",
       "718                           None  \n",
       "719                           None  \n",
       "\n",
       "[720 rows x 4 columns]"
      ]
     },
     "execution_count": 23,
     "metadata": {},
     "output_type": "execute_result"
    }
   ],
   "source": [
    "# Spliting Product column\n",
    "\n",
    "temp_product = df['Product'].str.split('GB', n=3, expand=True)\n",
    "\n",
    "temp_product"
   ]
  },
  {
   "cell_type": "code",
   "execution_count": 24,
   "id": "b779ed6f",
   "metadata": {},
   "outputs": [
    {
     "data": {
      "text/plain": [
       "ASUS         251\n",
       "Lenovo       196\n",
       "HP            61\n",
       "DELL          61\n",
       "acer          35\n",
       "RedmiBook     31\n",
       "MSI           30\n",
       "Infinix       20\n",
       "APPLE         19\n",
       "realme         6\n",
       "ALIENWARE      3\n",
       "SAMSUNG        2\n",
       "Ultimus        2\n",
       "Vaio           1\n",
       "GIGABYTE       1\n",
       "Nokia          1\n",
       "Name: 0, dtype: int64"
      ]
     },
     "execution_count": 24,
     "metadata": {},
     "output_type": "execute_result"
    }
   ],
   "source": [
    "# Fetching Brand Name\n",
    "\n",
    "brand = temp_product[0].str.split().str[0]\n",
    "\n",
    "brand.value_counts()"
   ]
  },
  {
   "cell_type": "code",
   "execution_count": 25,
   "id": "fbb36059",
   "metadata": {},
   "outputs": [
    {
     "data": {
      "text/html": [
       "<div>\n",
       "<style scoped>\n",
       "    .dataframe tbody tr th:only-of-type {\n",
       "        vertical-align: middle;\n",
       "    }\n",
       "\n",
       "    .dataframe tbody tr th {\n",
       "        vertical-align: top;\n",
       "    }\n",
       "\n",
       "    .dataframe thead th {\n",
       "        text-align: right;\n",
       "    }\n",
       "</style>\n",
       "<table border=\"1\" class=\"dataframe\">\n",
       "  <thead>\n",
       "    <tr style=\"text-align: right;\">\n",
       "      <th></th>\n",
       "      <th>Product</th>\n",
       "      <th>Rating</th>\n",
       "      <th>MRP</th>\n",
       "      <th>Feature</th>\n",
       "      <th>Brand Name</th>\n",
       "    </tr>\n",
       "  </thead>\n",
       "  <tbody>\n",
       "    <tr>\n",
       "      <th>0</th>\n",
       "      <td>Lenovo IdeaPad 3 Core i3 11th Gen - (8 GB/256 ...</td>\n",
       "      <td>4.2</td>\n",
       "      <td>10.518430</td>\n",
       "      <td>Intel Core i3 Processor (11th Gen)8 GB DDR4 RA...</td>\n",
       "      <td>Lenovo</td>\n",
       "    </tr>\n",
       "    <tr>\n",
       "      <th>1</th>\n",
       "      <td>Lenovo IdeaPad 3 Core i3 11th Gen - (8 GB/512 ...</td>\n",
       "      <td>4.2</td>\n",
       "      <td>10.596410</td>\n",
       "      <td>Intel Core i3 Processor (11th Gen)8 GB DDR4 RA...</td>\n",
       "      <td>Lenovo</td>\n",
       "    </tr>\n",
       "    <tr>\n",
       "      <th>2</th>\n",
       "      <td>ASUS VivoBook 15 (2022) Core i3 10th Gen - (8 ...</td>\n",
       "      <td>4.3</td>\n",
       "      <td>10.403990</td>\n",
       "      <td>Intel Core i3 Processor (10th Gen)8 GB DDR4 RA...</td>\n",
       "      <td>ASUS</td>\n",
       "    </tr>\n",
       "    <tr>\n",
       "      <th>3</th>\n",
       "      <td>HP Pavilion Ryzen 5 Hexa Core AMD R5-5600H - (...</td>\n",
       "      <td>4.4</td>\n",
       "      <td>10.819598</td>\n",
       "      <td>AMD Ryzen 5 Hexa Core Processor8 GB DDR4 RAM64...</td>\n",
       "      <td>HP</td>\n",
       "    </tr>\n",
       "    <tr>\n",
       "      <th>4</th>\n",
       "      <td>ASUS TUF Gaming F15 Core i5 10th Gen - (8 GB/5...</td>\n",
       "      <td>4.4</td>\n",
       "      <td>10.819598</td>\n",
       "      <td>Intel Core i5 Processor (10th Gen)8 GB DDR4 RA...</td>\n",
       "      <td>ASUS</td>\n",
       "    </tr>\n",
       "  </tbody>\n",
       "</table>\n",
       "</div>"
      ],
      "text/plain": [
       "                                             Product  Rating        MRP  \\\n",
       "0  Lenovo IdeaPad 3 Core i3 11th Gen - (8 GB/256 ...     4.2  10.518430   \n",
       "1  Lenovo IdeaPad 3 Core i3 11th Gen - (8 GB/512 ...     4.2  10.596410   \n",
       "2  ASUS VivoBook 15 (2022) Core i3 10th Gen - (8 ...     4.3  10.403990   \n",
       "3  HP Pavilion Ryzen 5 Hexa Core AMD R5-5600H - (...     4.4  10.819598   \n",
       "4  ASUS TUF Gaming F15 Core i5 10th Gen - (8 GB/5...     4.4  10.819598   \n",
       "\n",
       "                                             Feature Brand Name  \n",
       "0  Intel Core i3 Processor (11th Gen)8 GB DDR4 RA...     Lenovo  \n",
       "1  Intel Core i3 Processor (11th Gen)8 GB DDR4 RA...     Lenovo  \n",
       "2  Intel Core i3 Processor (10th Gen)8 GB DDR4 RA...       ASUS  \n",
       "3  AMD Ryzen 5 Hexa Core Processor8 GB DDR4 RAM64...         HP  \n",
       "4  Intel Core i5 Processor (10th Gen)8 GB DDR4 RA...       ASUS  "
      ]
     },
     "execution_count": 25,
     "metadata": {},
     "output_type": "execute_result"
    }
   ],
   "source": [
    "df['Brand Name'] = brand\n",
    "\n",
    "df.head()"
   ]
  },
  {
   "cell_type": "code",
   "execution_count": 26,
   "id": "36dd9619",
   "metadata": {},
   "outputs": [],
   "source": [
    "# Here in Brand Name so many categories given. So we have to reduce the some of the columns.\n",
    "\n",
    "df['Brand Name'] = df['Brand Name'].str.replace('realme','Others')\n",
    "df['Brand Name'] = df['Brand Name'].str.replace('SAMSUNG','Others')\n",
    "df['Brand Name'] = df['Brand Name'].str.replace('Ultimus','Others')\n",
    "df['Brand Name'] = df['Brand Name'].str.replace('Vaio','Others')\n",
    "df['Brand Name'] = df['Brand Name'].str.replace('GIGABYTE','Others')\n",
    "df['Brand Name'] = df['Brand Name'].str.replace('Nokia','Others')\n",
    "df['Brand Name'] = df['Brand Name'].str.replace('ALIENWARE','DELL')"
   ]
  },
  {
   "cell_type": "code",
   "execution_count": 27,
   "id": "41303b40",
   "metadata": {},
   "outputs": [
    {
     "data": {
      "text/plain": [
       "ASUS         251\n",
       "Lenovo       196\n",
       "DELL          64\n",
       "HP            61\n",
       "acer          35\n",
       "RedmiBook     31\n",
       "MSI           30\n",
       "Infinix       20\n",
       "APPLE         19\n",
       "Others        13\n",
       "Name: Brand Name, dtype: int64"
      ]
     },
     "execution_count": 27,
     "metadata": {},
     "output_type": "execute_result"
    }
   ],
   "source": [
    "df['Brand Name'].value_counts()"
   ]
  },
  {
   "cell_type": "markdown",
   "id": "cce7a5db",
   "metadata": {},
   "source": [
    "#### Extracting Operating System (OS) from Feature column"
   ]
  },
  {
   "cell_type": "code",
   "execution_count": 28,
   "id": "e972cb13",
   "metadata": {},
   "outputs": [
    {
     "data": {
      "text/plain": [
       "Windows    690\n",
       "Mac         19\n",
       "Others      11\n",
       "Name: OS, dtype: int64"
      ]
     },
     "execution_count": 28,
     "metadata": {},
     "output_type": "execute_result"
    }
   ],
   "source": [
    "import re\n",
    "\n",
    "regex_os = r'(Windows|MAC)'\n",
    "\n",
    "def extract_os(text):\n",
    "    match = re.search(regex_os, text, re.IGNORECASE)\n",
    "    if match:\n",
    "        return match.group(1)\n",
    "    else:\n",
    "        return \"Others\"\n",
    "\n",
    "\n",
    "df['OS'] = df['Feature'].apply(extract_os)\n",
    "df['OS'].value_counts()"
   ]
  },
  {
   "cell_type": "code",
   "execution_count": 29,
   "id": "2c30ca51",
   "metadata": {},
   "outputs": [
    {
     "data": {
      "text/html": [
       "<div>\n",
       "<style scoped>\n",
       "    .dataframe tbody tr th:only-of-type {\n",
       "        vertical-align: middle;\n",
       "    }\n",
       "\n",
       "    .dataframe tbody tr th {\n",
       "        vertical-align: top;\n",
       "    }\n",
       "\n",
       "    .dataframe thead th {\n",
       "        text-align: right;\n",
       "    }\n",
       "</style>\n",
       "<table border=\"1\" class=\"dataframe\">\n",
       "  <thead>\n",
       "    <tr style=\"text-align: right;\">\n",
       "      <th></th>\n",
       "      <th>Product</th>\n",
       "      <th>Rating</th>\n",
       "      <th>MRP</th>\n",
       "      <th>Feature</th>\n",
       "      <th>Brand Name</th>\n",
       "      <th>OS</th>\n",
       "    </tr>\n",
       "  </thead>\n",
       "  <tbody>\n",
       "    <tr>\n",
       "      <th>0</th>\n",
       "      <td>Lenovo IdeaPad 3 Core i3 11th Gen - (8 GB/256 ...</td>\n",
       "      <td>4.2</td>\n",
       "      <td>10.518430</td>\n",
       "      <td>Intel Core i3 Processor (11th Gen)8 GB DDR4 RA...</td>\n",
       "      <td>Lenovo</td>\n",
       "      <td>Windows</td>\n",
       "    </tr>\n",
       "    <tr>\n",
       "      <th>1</th>\n",
       "      <td>Lenovo IdeaPad 3 Core i3 11th Gen - (8 GB/512 ...</td>\n",
       "      <td>4.2</td>\n",
       "      <td>10.596410</td>\n",
       "      <td>Intel Core i3 Processor (11th Gen)8 GB DDR4 RA...</td>\n",
       "      <td>Lenovo</td>\n",
       "      <td>Windows</td>\n",
       "    </tr>\n",
       "    <tr>\n",
       "      <th>2</th>\n",
       "      <td>ASUS VivoBook 15 (2022) Core i3 10th Gen - (8 ...</td>\n",
       "      <td>4.3</td>\n",
       "      <td>10.403990</td>\n",
       "      <td>Intel Core i3 Processor (10th Gen)8 GB DDR4 RA...</td>\n",
       "      <td>ASUS</td>\n",
       "      <td>Windows</td>\n",
       "    </tr>\n",
       "    <tr>\n",
       "      <th>3</th>\n",
       "      <td>HP Pavilion Ryzen 5 Hexa Core AMD R5-5600H - (...</td>\n",
       "      <td>4.4</td>\n",
       "      <td>10.819598</td>\n",
       "      <td>AMD Ryzen 5 Hexa Core Processor8 GB DDR4 RAM64...</td>\n",
       "      <td>HP</td>\n",
       "      <td>Windows</td>\n",
       "    </tr>\n",
       "    <tr>\n",
       "      <th>4</th>\n",
       "      <td>ASUS TUF Gaming F15 Core i5 10th Gen - (8 GB/5...</td>\n",
       "      <td>4.4</td>\n",
       "      <td>10.819598</td>\n",
       "      <td>Intel Core i5 Processor (10th Gen)8 GB DDR4 RA...</td>\n",
       "      <td>ASUS</td>\n",
       "      <td>Windows</td>\n",
       "    </tr>\n",
       "  </tbody>\n",
       "</table>\n",
       "</div>"
      ],
      "text/plain": [
       "                                             Product  Rating        MRP  \\\n",
       "0  Lenovo IdeaPad 3 Core i3 11th Gen - (8 GB/256 ...     4.2  10.518430   \n",
       "1  Lenovo IdeaPad 3 Core i3 11th Gen - (8 GB/512 ...     4.2  10.596410   \n",
       "2  ASUS VivoBook 15 (2022) Core i3 10th Gen - (8 ...     4.3  10.403990   \n",
       "3  HP Pavilion Ryzen 5 Hexa Core AMD R5-5600H - (...     4.4  10.819598   \n",
       "4  ASUS TUF Gaming F15 Core i5 10th Gen - (8 GB/5...     4.4  10.819598   \n",
       "\n",
       "                                             Feature Brand Name       OS  \n",
       "0  Intel Core i3 Processor (11th Gen)8 GB DDR4 RA...     Lenovo  Windows  \n",
       "1  Intel Core i3 Processor (11th Gen)8 GB DDR4 RA...     Lenovo  Windows  \n",
       "2  Intel Core i3 Processor (10th Gen)8 GB DDR4 RA...       ASUS  Windows  \n",
       "3  AMD Ryzen 5 Hexa Core Processor8 GB DDR4 RAM64...         HP  Windows  \n",
       "4  Intel Core i5 Processor (10th Gen)8 GB DDR4 RA...       ASUS  Windows  "
      ]
     },
     "execution_count": 29,
     "metadata": {},
     "output_type": "execute_result"
    }
   ],
   "source": [
    "df.head()"
   ]
  },
  {
   "cell_type": "markdown",
   "id": "ffed3879",
   "metadata": {},
   "source": [
    "#### Exracting RAM Type"
   ]
  },
  {
   "cell_type": "code",
   "execution_count": 30,
   "id": "3b2c618c",
   "metadata": {},
   "outputs": [
    {
     "data": {
      "text/plain": [
       "DDR4       561\n",
       "DDR5        92\n",
       "LPDDR4X     37\n",
       "LPDDR5       9\n",
       "LPDDR4       8\n",
       "LPDDR3       1\n",
       "Name: RAM Type, dtype: int64"
      ]
     },
     "execution_count": 30,
     "metadata": {},
     "output_type": "execute_result"
    }
   ],
   "source": [
    "regex_ram_type = r'(DDR[0-9L]*|LPDDR[0-9X]*)'\n",
    "\n",
    "def extract_ram_type(text):\n",
    "    match = re.search(regex_ram_type, text, re.IGNORECASE)\n",
    "    if match:\n",
    "        return match.group(1)\n",
    "    else:\n",
    "        return None\n",
    "\n",
    "df['RAM Type'] = df['Feature'].apply(extract_ram_type)\n",
    "\n",
    "df['RAM Type'].value_counts()"
   ]
  },
  {
   "cell_type": "code",
   "execution_count": 31,
   "id": "44d5d5ae",
   "metadata": {},
   "outputs": [
    {
     "data": {
      "text/plain": [
       "DDR4       561\n",
       "DDR5        92\n",
       "OthersX     37\n",
       "Others      18\n",
       "Name: RAM Type, dtype: int64"
      ]
     },
     "execution_count": 31,
     "metadata": {},
     "output_type": "execute_result"
    }
   ],
   "source": [
    "df['RAM Type'] = df['RAM Type'].str.replace('LPDDR5','Others')\n",
    "df['RAM Type'] = df['RAM Type'].str.replace('LPDDR4','Others')\n",
    "df['RAM Type'] = df['RAM Type'].str.replace('LPDDR3','Others')\n",
    "\n",
    "\n",
    "df['RAM Type'].value_counts()\n"
   ]
  },
  {
   "cell_type": "code",
   "execution_count": 32,
   "id": "e873bcac",
   "metadata": {},
   "outputs": [
    {
     "data": {
      "text/plain": [
       "DDR4      561\n",
       "DDR5       92\n",
       "Others     55\n",
       "Name: RAM Type, dtype: int64"
      ]
     },
     "execution_count": 32,
     "metadata": {},
     "output_type": "execute_result"
    }
   ],
   "source": [
    "df['RAM Type'] = df['RAM Type'].str.replace('OthersX','Others')\n",
    "\n",
    "df['RAM Type'].value_counts()"
   ]
  },
  {
   "cell_type": "code",
   "execution_count": 33,
   "id": "4b524105",
   "metadata": {},
   "outputs": [
    {
     "data": {
      "text/plain": [
       "12"
      ]
     },
     "execution_count": 33,
     "metadata": {},
     "output_type": "execute_result"
    }
   ],
   "source": [
    "df['RAM Type'].isna().sum()"
   ]
  },
  {
   "cell_type": "code",
   "execution_count": 34,
   "id": "0bcfec46",
   "metadata": {},
   "outputs": [
    {
     "data": {
      "text/plain": [
       "DDR4      561\n",
       "DDR5       92\n",
       "Others     67\n",
       "Name: RAM Type, dtype: int64"
      ]
     },
     "execution_count": 34,
     "metadata": {},
     "output_type": "execute_result"
    }
   ],
   "source": [
    "df['RAM Type'].fillna('Others', inplace=True)\n",
    "\n",
    "df['RAM Type'].value_counts()"
   ]
  },
  {
   "cell_type": "code",
   "execution_count": 35,
   "id": "439a9292",
   "metadata": {},
   "outputs": [
    {
     "data": {
      "text/html": [
       "<div>\n",
       "<style scoped>\n",
       "    .dataframe tbody tr th:only-of-type {\n",
       "        vertical-align: middle;\n",
       "    }\n",
       "\n",
       "    .dataframe tbody tr th {\n",
       "        vertical-align: top;\n",
       "    }\n",
       "\n",
       "    .dataframe thead th {\n",
       "        text-align: right;\n",
       "    }\n",
       "</style>\n",
       "<table border=\"1\" class=\"dataframe\">\n",
       "  <thead>\n",
       "    <tr style=\"text-align: right;\">\n",
       "      <th></th>\n",
       "      <th>Product</th>\n",
       "      <th>Rating</th>\n",
       "      <th>MRP</th>\n",
       "      <th>Feature</th>\n",
       "      <th>Brand Name</th>\n",
       "      <th>OS</th>\n",
       "      <th>RAM Type</th>\n",
       "    </tr>\n",
       "  </thead>\n",
       "  <tbody>\n",
       "    <tr>\n",
       "      <th>0</th>\n",
       "      <td>Lenovo IdeaPad 3 Core i3 11th Gen - (8 GB/256 ...</td>\n",
       "      <td>4.2</td>\n",
       "      <td>10.518430</td>\n",
       "      <td>Intel Core i3 Processor (11th Gen)8 GB DDR4 RA...</td>\n",
       "      <td>Lenovo</td>\n",
       "      <td>Windows</td>\n",
       "      <td>DDR4</td>\n",
       "    </tr>\n",
       "    <tr>\n",
       "      <th>1</th>\n",
       "      <td>Lenovo IdeaPad 3 Core i3 11th Gen - (8 GB/512 ...</td>\n",
       "      <td>4.2</td>\n",
       "      <td>10.596410</td>\n",
       "      <td>Intel Core i3 Processor (11th Gen)8 GB DDR4 RA...</td>\n",
       "      <td>Lenovo</td>\n",
       "      <td>Windows</td>\n",
       "      <td>DDR4</td>\n",
       "    </tr>\n",
       "    <tr>\n",
       "      <th>2</th>\n",
       "      <td>ASUS VivoBook 15 (2022) Core i3 10th Gen - (8 ...</td>\n",
       "      <td>4.3</td>\n",
       "      <td>10.403990</td>\n",
       "      <td>Intel Core i3 Processor (10th Gen)8 GB DDR4 RA...</td>\n",
       "      <td>ASUS</td>\n",
       "      <td>Windows</td>\n",
       "      <td>DDR4</td>\n",
       "    </tr>\n",
       "    <tr>\n",
       "      <th>3</th>\n",
       "      <td>HP Pavilion Ryzen 5 Hexa Core AMD R5-5600H - (...</td>\n",
       "      <td>4.4</td>\n",
       "      <td>10.819598</td>\n",
       "      <td>AMD Ryzen 5 Hexa Core Processor8 GB DDR4 RAM64...</td>\n",
       "      <td>HP</td>\n",
       "      <td>Windows</td>\n",
       "      <td>DDR4</td>\n",
       "    </tr>\n",
       "    <tr>\n",
       "      <th>4</th>\n",
       "      <td>ASUS TUF Gaming F15 Core i5 10th Gen - (8 GB/5...</td>\n",
       "      <td>4.4</td>\n",
       "      <td>10.819598</td>\n",
       "      <td>Intel Core i5 Processor (10th Gen)8 GB DDR4 RA...</td>\n",
       "      <td>ASUS</td>\n",
       "      <td>Windows</td>\n",
       "      <td>DDR4</td>\n",
       "    </tr>\n",
       "  </tbody>\n",
       "</table>\n",
       "</div>"
      ],
      "text/plain": [
       "                                             Product  Rating        MRP  \\\n",
       "0  Lenovo IdeaPad 3 Core i3 11th Gen - (8 GB/256 ...     4.2  10.518430   \n",
       "1  Lenovo IdeaPad 3 Core i3 11th Gen - (8 GB/512 ...     4.2  10.596410   \n",
       "2  ASUS VivoBook 15 (2022) Core i3 10th Gen - (8 ...     4.3  10.403990   \n",
       "3  HP Pavilion Ryzen 5 Hexa Core AMD R5-5600H - (...     4.4  10.819598   \n",
       "4  ASUS TUF Gaming F15 Core i5 10th Gen - (8 GB/5...     4.4  10.819598   \n",
       "\n",
       "                                             Feature Brand Name       OS  \\\n",
       "0  Intel Core i3 Processor (11th Gen)8 GB DDR4 RA...     Lenovo  Windows   \n",
       "1  Intel Core i3 Processor (11th Gen)8 GB DDR4 RA...     Lenovo  Windows   \n",
       "2  Intel Core i3 Processor (10th Gen)8 GB DDR4 RA...       ASUS  Windows   \n",
       "3  AMD Ryzen 5 Hexa Core Processor8 GB DDR4 RAM64...         HP  Windows   \n",
       "4  Intel Core i5 Processor (10th Gen)8 GB DDR4 RA...       ASUS  Windows   \n",
       "\n",
       "  RAM Type  \n",
       "0     DDR4  \n",
       "1     DDR4  \n",
       "2     DDR4  \n",
       "3     DDR4  \n",
       "4     DDR4  "
      ]
     },
     "execution_count": 35,
     "metadata": {},
     "output_type": "execute_result"
    }
   ],
   "source": [
    "df.head()"
   ]
  },
  {
   "cell_type": "markdown",
   "id": "df5f754e",
   "metadata": {},
   "source": [
    "#### Extracting RAM Size"
   ]
  },
  {
   "cell_type": "code",
   "execution_count": 36,
   "id": "3dba0d0c",
   "metadata": {},
   "outputs": [
    {
     "data": {
      "text/plain": [
       "8      400\n",
       "16     263\n",
       "4       38\n",
       "32      17\n",
       "128      2\n",
       "Name: RAM Size, dtype: int64"
      ]
     },
     "execution_count": 36,
     "metadata": {},
     "output_type": "execute_result"
    }
   ],
   "source": [
    "regex_ram_size = r'(\\d+)\\s*(?:GB|MB)(?:\\s*DDR\\d)?'\n",
    "\n",
    "\n",
    "def extract_ram(text):\n",
    "    match = re.search(regex_ram_size, text, re.IGNORECASE)\n",
    "    if match:\n",
    "        return match.group(1)\n",
    "    else:\n",
    "        return None\n",
    "\n",
    "\n",
    "df['RAM Size'] = df['Feature'].apply(extract_ram)\n",
    "\n",
    "\n",
    "df['RAM Size'].value_counts()"
   ]
  },
  {
   "cell_type": "code",
   "execution_count": 37,
   "id": "85f3fe1d",
   "metadata": {},
   "outputs": [
    {
     "data": {
      "text/plain": [
       "8     400\n",
       "16    263\n",
       "4      38\n",
       "32     19\n",
       "Name: RAM Size, dtype: int64"
      ]
     },
     "execution_count": 37,
     "metadata": {},
     "output_type": "execute_result"
    }
   ],
   "source": [
    "df['RAM Size'] = df['RAM Size'].str.replace('128','32')\n",
    "\n",
    "df['RAM Size'].value_counts()"
   ]
  },
  {
   "cell_type": "code",
   "execution_count": 38,
   "id": "b39f7e59",
   "metadata": {},
   "outputs": [
    {
     "name": "stdout",
     "output_type": "stream",
     "text": [
      "<class 'pandas.core.frame.DataFrame'>\n",
      "RangeIndex: 720 entries, 0 to 719\n",
      "Data columns (total 8 columns):\n",
      " #   Column      Non-Null Count  Dtype  \n",
      "---  ------      --------------  -----  \n",
      " 0   Product     720 non-null    object \n",
      " 1   Rating      581 non-null    float64\n",
      " 2   MRP         720 non-null    float64\n",
      " 3   Feature     720 non-null    object \n",
      " 4   Brand Name  720 non-null    object \n",
      " 5   OS          720 non-null    object \n",
      " 6   RAM Type    720 non-null    object \n",
      " 7   RAM Size    720 non-null    object \n",
      "dtypes: float64(2), object(6)\n",
      "memory usage: 45.1+ KB\n"
     ]
    }
   ],
   "source": [
    "df.info()"
   ]
  },
  {
   "cell_type": "code",
   "execution_count": 39,
   "id": "25a5a9ec",
   "metadata": {},
   "outputs": [
    {
     "name": "stdout",
     "output_type": "stream",
     "text": [
      "<class 'pandas.core.frame.DataFrame'>\n",
      "RangeIndex: 720 entries, 0 to 719\n",
      "Data columns (total 8 columns):\n",
      " #   Column      Non-Null Count  Dtype  \n",
      "---  ------      --------------  -----  \n",
      " 0   Product     720 non-null    object \n",
      " 1   Rating      581 non-null    float64\n",
      " 2   MRP         720 non-null    float64\n",
      " 3   Feature     720 non-null    object \n",
      " 4   Brand Name  720 non-null    object \n",
      " 5   OS          720 non-null    object \n",
      " 6   RAM Type    720 non-null    object \n",
      " 7   RAM Size    720 non-null    int32  \n",
      "dtypes: float64(2), int32(1), object(5)\n",
      "memory usage: 42.3+ KB\n"
     ]
    }
   ],
   "source": [
    "df['RAM Size'] = df['RAM Size'].astype('int32')\n",
    "\n",
    "df.info()"
   ]
  },
  {
   "cell_type": "code",
   "execution_count": 40,
   "id": "1866bacc",
   "metadata": {},
   "outputs": [
    {
     "data": {
      "text/html": [
       "<div>\n",
       "<style scoped>\n",
       "    .dataframe tbody tr th:only-of-type {\n",
       "        vertical-align: middle;\n",
       "    }\n",
       "\n",
       "    .dataframe tbody tr th {\n",
       "        vertical-align: top;\n",
       "    }\n",
       "\n",
       "    .dataframe thead th {\n",
       "        text-align: right;\n",
       "    }\n",
       "</style>\n",
       "<table border=\"1\" class=\"dataframe\">\n",
       "  <thead>\n",
       "    <tr style=\"text-align: right;\">\n",
       "      <th></th>\n",
       "      <th>Product</th>\n",
       "      <th>Rating</th>\n",
       "      <th>MRP</th>\n",
       "      <th>Feature</th>\n",
       "      <th>Brand Name</th>\n",
       "      <th>OS</th>\n",
       "      <th>RAM Type</th>\n",
       "      <th>RAM Size</th>\n",
       "    </tr>\n",
       "  </thead>\n",
       "  <tbody>\n",
       "    <tr>\n",
       "      <th>0</th>\n",
       "      <td>Lenovo IdeaPad 3 Core i3 11th Gen - (8 GB/256 ...</td>\n",
       "      <td>4.2</td>\n",
       "      <td>10.518430</td>\n",
       "      <td>Intel Core i3 Processor (11th Gen)8 GB DDR4 RA...</td>\n",
       "      <td>Lenovo</td>\n",
       "      <td>Windows</td>\n",
       "      <td>DDR4</td>\n",
       "      <td>8</td>\n",
       "    </tr>\n",
       "    <tr>\n",
       "      <th>1</th>\n",
       "      <td>Lenovo IdeaPad 3 Core i3 11th Gen - (8 GB/512 ...</td>\n",
       "      <td>4.2</td>\n",
       "      <td>10.596410</td>\n",
       "      <td>Intel Core i3 Processor (11th Gen)8 GB DDR4 RA...</td>\n",
       "      <td>Lenovo</td>\n",
       "      <td>Windows</td>\n",
       "      <td>DDR4</td>\n",
       "      <td>8</td>\n",
       "    </tr>\n",
       "    <tr>\n",
       "      <th>2</th>\n",
       "      <td>ASUS VivoBook 15 (2022) Core i3 10th Gen - (8 ...</td>\n",
       "      <td>4.3</td>\n",
       "      <td>10.403990</td>\n",
       "      <td>Intel Core i3 Processor (10th Gen)8 GB DDR4 RA...</td>\n",
       "      <td>ASUS</td>\n",
       "      <td>Windows</td>\n",
       "      <td>DDR4</td>\n",
       "      <td>8</td>\n",
       "    </tr>\n",
       "    <tr>\n",
       "      <th>3</th>\n",
       "      <td>HP Pavilion Ryzen 5 Hexa Core AMD R5-5600H - (...</td>\n",
       "      <td>4.4</td>\n",
       "      <td>10.819598</td>\n",
       "      <td>AMD Ryzen 5 Hexa Core Processor8 GB DDR4 RAM64...</td>\n",
       "      <td>HP</td>\n",
       "      <td>Windows</td>\n",
       "      <td>DDR4</td>\n",
       "      <td>8</td>\n",
       "    </tr>\n",
       "    <tr>\n",
       "      <th>4</th>\n",
       "      <td>ASUS TUF Gaming F15 Core i5 10th Gen - (8 GB/5...</td>\n",
       "      <td>4.4</td>\n",
       "      <td>10.819598</td>\n",
       "      <td>Intel Core i5 Processor (10th Gen)8 GB DDR4 RA...</td>\n",
       "      <td>ASUS</td>\n",
       "      <td>Windows</td>\n",
       "      <td>DDR4</td>\n",
       "      <td>8</td>\n",
       "    </tr>\n",
       "  </tbody>\n",
       "</table>\n",
       "</div>"
      ],
      "text/plain": [
       "                                             Product  Rating        MRP  \\\n",
       "0  Lenovo IdeaPad 3 Core i3 11th Gen - (8 GB/256 ...     4.2  10.518430   \n",
       "1  Lenovo IdeaPad 3 Core i3 11th Gen - (8 GB/512 ...     4.2  10.596410   \n",
       "2  ASUS VivoBook 15 (2022) Core i3 10th Gen - (8 ...     4.3  10.403990   \n",
       "3  HP Pavilion Ryzen 5 Hexa Core AMD R5-5600H - (...     4.4  10.819598   \n",
       "4  ASUS TUF Gaming F15 Core i5 10th Gen - (8 GB/5...     4.4  10.819598   \n",
       "\n",
       "                                             Feature Brand Name       OS  \\\n",
       "0  Intel Core i3 Processor (11th Gen)8 GB DDR4 RA...     Lenovo  Windows   \n",
       "1  Intel Core i3 Processor (11th Gen)8 GB DDR4 RA...     Lenovo  Windows   \n",
       "2  Intel Core i3 Processor (10th Gen)8 GB DDR4 RA...       ASUS  Windows   \n",
       "3  AMD Ryzen 5 Hexa Core Processor8 GB DDR4 RAM64...         HP  Windows   \n",
       "4  Intel Core i5 Processor (10th Gen)8 GB DDR4 RA...       ASUS  Windows   \n",
       "\n",
       "  RAM Type  RAM Size  \n",
       "0     DDR4         8  \n",
       "1     DDR4         8  \n",
       "2     DDR4         8  \n",
       "3     DDR4         8  \n",
       "4     DDR4         8  "
      ]
     },
     "execution_count": 40,
     "metadata": {},
     "output_type": "execute_result"
    }
   ],
   "source": [
    "df.head()"
   ]
  },
  {
   "cell_type": "markdown",
   "id": "4c5e9e90",
   "metadata": {},
   "source": [
    "#### Extracting Disk Type from Product column"
   ]
  },
  {
   "cell_type": "code",
   "execution_count": 41,
   "id": "8acc358f",
   "metadata": {},
   "outputs": [
    {
     "data": {
      "text/plain": [
       "SSD    672\n",
       "HDD     48\n",
       "Name: Disk Type, dtype: int64"
      ]
     },
     "execution_count": 41,
     "metadata": {},
     "output_type": "execute_result"
    }
   ],
   "source": [
    "df['Disk Type'] = df['Product'].apply(lambda x:'HDD' if 'HDD' in x else 'SSD' )\n",
    "\n",
    "df['Disk Type'].value_counts()"
   ]
  },
  {
   "cell_type": "markdown",
   "id": "026e1d6e",
   "metadata": {},
   "source": [
    "#### Extracting Disk Size"
   ]
  },
  {
   "cell_type": "code",
   "execution_count": 42,
   "id": "71f1fc22",
   "metadata": {},
   "outputs": [
    {
     "data": {
      "text/plain": [
       "0                             /256 \n",
       "1                             /512 \n",
       "2                             /512 \n",
       "3                             /512 \n",
       "4                             /512 \n",
       "                   ...             \n",
       "715                            /64 \n",
       "716                           /512 \n",
       "717    /1 TB SSD/Windows 11 Home/8 \n",
       "718                           /512 \n",
       "719                  /1 TB HDD/256 \n",
       "Name: 1, Length: 720, dtype: object"
      ]
     },
     "execution_count": 42,
     "metadata": {},
     "output_type": "execute_result"
    }
   ],
   "source": [
    "temp_product[1]"
   ]
  },
  {
   "cell_type": "code",
   "execution_count": 43,
   "id": "6048f529",
   "metadata": {},
   "outputs": [
    {
     "data": {
      "text/plain": [
       "512                                                               375\n",
       "256                                                                99\n",
       "1 TB SSDWindows 11 Home4                                           38\n",
       "1 TB SSDWindows 11 Hom...                                          31\n",
       "1 TB SSDWindows 11 Home8                                           27\n",
       "1 TB HDD256                                                        26\n",
       "1 TB SSDWin...                                                     25\n",
       "1 TB SSDWindows 11 Home6                                           11\n",
       "128                                                                 8\n",
       "64                                                                  7\n",
       "1 TB SSDWindows 10 Home4                                            6\n",
       "1 TB SSDWindows 11 ...                                              6\n",
       "1 TB SSDWindows 10 Home6                                            5\n",
       "1 TB SSDWindows 10 Home8                                            4\n",
       "1 TB SSDWindows 11 Home...                                          3\n",
       "1 TB SSDWindows 10 Home...                                          3\n",
       "1 TB HDD128                                                         2\n",
       "1 TB HDD512                                                         2\n",
       "1 TB SSDWindows 11 Home16                                           2\n",
       "2 TB SSDWindows 1...                                                2\n",
       "1 TB SSDWindows ...                                                 2\n",
       "1 TB HDDWindows 10 Home) X515JA-EJ322TS Thin and Light Lapt...      2\n",
       "1 TB HDDWindows 10 Home) X515JA-EJ501T Thin and Light Lapto...      2\n",
       "1 TB HDDWindows 10 Pro) ExpertBook P1 P1440FA Thin and Li...        2\n",
       "2 TB SSDWindows 11 Home16 ...                                       1\n",
       "2 TB SSDWindows 11 Home8                                            1\n",
       "1 TB SSDWindows 11 Home4 ...                                        1\n",
       "2 TB SSDWindows 11 Home16                                           1\n",
       "1 TB HDDWindows 11 Home) 245 G8 Laptop                              1\n",
       "2 TB SSDWindows ...                                                 1\n",
       "1 TB HDDWindows 10 Home) 15ADA05 Laptop                             1\n",
       "1 TB SSDWindows 11 Home) UM5302TA-LX701WS Thi...                    1\n",
       "1 TB HDDWindows 10 Home) V15-IIL Laptop                             1\n",
       "1 TB HDDWindows 11 Home) 15IML05 Thin and Light Laptop              1\n",
       "1 TB HDDWindows 10 Home) X415FA-BV311T Laptop                       1\n",
       "1 TB HDDWindows 10 Home4                                            1\n",
       "1 TB SSDWindows 11 Home6 G...                                       1\n",
       "1 TB HDDWindows 10 Pro2                                             1\n",
       "1 TB HDDWindows 10 Home) X515JA-BR381T Thin and Light Lapto...      1\n",
       "1 TB SSDWindows 10 Home) Yoga Slim 7 14ITL05b ...                   1\n",
       "1 TB HDDWindows 10 Home) A515-56 Thin and Light Laptop              1\n",
       "1 TB SSDWindows 11 HomeAMD Radeon RX 6600M) 16-C0140...             1\n",
       "1 TB SSDMac OS Big Sur) Z11B0008S                                   1\n",
       "32                                                                  1\n",
       "1 TB SSDMac OS Monterey) MK1F3HNA                                   1\n",
       "1 TB HDDWindows 10) Inspiron 3505 Notebook                          1\n",
       "1 TB SSDWindows 11 HomeAMD Radeon AMD) GV301RA-L...                 1\n",
       "1 TB SSDWindows 10 Home) U...                                       1\n",
       "1 TB SSDWindows 106                                                 1\n",
       "1 TB SSDMac OS Monterey) MKGQ3HNA                                   1\n",
       "1 TB SSDMac OS Monterey) MK1A3HNA                                   1\n",
       "1 TB SSDMac OS Monterey) MK193HNA                                   1\n",
       "1 TB HDDWindows 11 Home) Vostro 3405 Thin and Light La...           1\n",
       "2 TB SSDWindows 10 Pro) ExpertBook B9 B9450FA Thin and L...         1\n",
       "Name: 1, dtype: int64"
      ]
     },
     "execution_count": 43,
     "metadata": {},
     "output_type": "execute_result"
    }
   ],
   "source": [
    "Disk_size = temp_product[1].str.replace('/','')\n",
    "\n",
    "Disk_size.value_counts()"
   ]
  },
  {
   "cell_type": "code",
   "execution_count": 44,
   "id": "1d9517ac",
   "metadata": {},
   "outputs": [
    {
     "data": {
      "text/plain": [
       "0      256\n",
       "1      512\n",
       "2      512\n",
       "3      512\n",
       "4      512\n",
       "      ... \n",
       "715     64\n",
       "716    512\n",
       "717      1\n",
       "718    512\n",
       "719      1\n",
       "Name: 1, Length: 720, dtype: int32"
      ]
     },
     "execution_count": 44,
     "metadata": {},
     "output_type": "execute_result"
    }
   ],
   "source": [
    "Disk_size = Disk_size.str.split().str[0]\n",
    "\n",
    "Disk_size = Disk_size.astype('int')\n",
    "\n",
    "Disk_size"
   ]
  },
  {
   "cell_type": "code",
   "execution_count": 45,
   "id": "aa517a85",
   "metadata": {},
   "outputs": [
    {
     "data": {
      "text/plain": [
       "512    375\n",
       "1      223\n",
       "256     99\n",
       "128      8\n",
       "64       7\n",
       "2        7\n",
       "32       1\n",
       "Name: 1, dtype: int64"
      ]
     },
     "execution_count": 45,
     "metadata": {},
     "output_type": "execute_result"
    }
   ],
   "source": [
    "Disk_size.value_counts()"
   ]
  },
  {
   "cell_type": "code",
   "execution_count": 46,
   "id": "4836c31b",
   "metadata": {},
   "outputs": [
    {
     "data": {
      "text/html": [
       "<div>\n",
       "<style scoped>\n",
       "    .dataframe tbody tr th:only-of-type {\n",
       "        vertical-align: middle;\n",
       "    }\n",
       "\n",
       "    .dataframe tbody tr th {\n",
       "        vertical-align: top;\n",
       "    }\n",
       "\n",
       "    .dataframe thead th {\n",
       "        text-align: right;\n",
       "    }\n",
       "</style>\n",
       "<table border=\"1\" class=\"dataframe\">\n",
       "  <thead>\n",
       "    <tr style=\"text-align: right;\">\n",
       "      <th></th>\n",
       "      <th>Product</th>\n",
       "      <th>Rating</th>\n",
       "      <th>MRP</th>\n",
       "      <th>Feature</th>\n",
       "      <th>Brand Name</th>\n",
       "      <th>OS</th>\n",
       "      <th>RAM Type</th>\n",
       "      <th>RAM Size</th>\n",
       "      <th>Disk Type</th>\n",
       "      <th>Disk Size</th>\n",
       "    </tr>\n",
       "  </thead>\n",
       "  <tbody>\n",
       "    <tr>\n",
       "      <th>0</th>\n",
       "      <td>Lenovo IdeaPad 3 Core i3 11th Gen - (8 GB/256 ...</td>\n",
       "      <td>4.2</td>\n",
       "      <td>10.518430</td>\n",
       "      <td>Intel Core i3 Processor (11th Gen)8 GB DDR4 RA...</td>\n",
       "      <td>Lenovo</td>\n",
       "      <td>Windows</td>\n",
       "      <td>DDR4</td>\n",
       "      <td>8</td>\n",
       "      <td>SSD</td>\n",
       "      <td>256</td>\n",
       "    </tr>\n",
       "    <tr>\n",
       "      <th>1</th>\n",
       "      <td>Lenovo IdeaPad 3 Core i3 11th Gen - (8 GB/512 ...</td>\n",
       "      <td>4.2</td>\n",
       "      <td>10.596410</td>\n",
       "      <td>Intel Core i3 Processor (11th Gen)8 GB DDR4 RA...</td>\n",
       "      <td>Lenovo</td>\n",
       "      <td>Windows</td>\n",
       "      <td>DDR4</td>\n",
       "      <td>8</td>\n",
       "      <td>SSD</td>\n",
       "      <td>512</td>\n",
       "    </tr>\n",
       "    <tr>\n",
       "      <th>2</th>\n",
       "      <td>ASUS VivoBook 15 (2022) Core i3 10th Gen - (8 ...</td>\n",
       "      <td>4.3</td>\n",
       "      <td>10.403990</td>\n",
       "      <td>Intel Core i3 Processor (10th Gen)8 GB DDR4 RA...</td>\n",
       "      <td>ASUS</td>\n",
       "      <td>Windows</td>\n",
       "      <td>DDR4</td>\n",
       "      <td>8</td>\n",
       "      <td>SSD</td>\n",
       "      <td>512</td>\n",
       "    </tr>\n",
       "    <tr>\n",
       "      <th>3</th>\n",
       "      <td>HP Pavilion Ryzen 5 Hexa Core AMD R5-5600H - (...</td>\n",
       "      <td>4.4</td>\n",
       "      <td>10.819598</td>\n",
       "      <td>AMD Ryzen 5 Hexa Core Processor8 GB DDR4 RAM64...</td>\n",
       "      <td>HP</td>\n",
       "      <td>Windows</td>\n",
       "      <td>DDR4</td>\n",
       "      <td>8</td>\n",
       "      <td>SSD</td>\n",
       "      <td>512</td>\n",
       "    </tr>\n",
       "    <tr>\n",
       "      <th>4</th>\n",
       "      <td>ASUS TUF Gaming F15 Core i5 10th Gen - (8 GB/5...</td>\n",
       "      <td>4.4</td>\n",
       "      <td>10.819598</td>\n",
       "      <td>Intel Core i5 Processor (10th Gen)8 GB DDR4 RA...</td>\n",
       "      <td>ASUS</td>\n",
       "      <td>Windows</td>\n",
       "      <td>DDR4</td>\n",
       "      <td>8</td>\n",
       "      <td>SSD</td>\n",
       "      <td>512</td>\n",
       "    </tr>\n",
       "  </tbody>\n",
       "</table>\n",
       "</div>"
      ],
      "text/plain": [
       "                                             Product  Rating        MRP  \\\n",
       "0  Lenovo IdeaPad 3 Core i3 11th Gen - (8 GB/256 ...     4.2  10.518430   \n",
       "1  Lenovo IdeaPad 3 Core i3 11th Gen - (8 GB/512 ...     4.2  10.596410   \n",
       "2  ASUS VivoBook 15 (2022) Core i3 10th Gen - (8 ...     4.3  10.403990   \n",
       "3  HP Pavilion Ryzen 5 Hexa Core AMD R5-5600H - (...     4.4  10.819598   \n",
       "4  ASUS TUF Gaming F15 Core i5 10th Gen - (8 GB/5...     4.4  10.819598   \n",
       "\n",
       "                                             Feature Brand Name       OS  \\\n",
       "0  Intel Core i3 Processor (11th Gen)8 GB DDR4 RA...     Lenovo  Windows   \n",
       "1  Intel Core i3 Processor (11th Gen)8 GB DDR4 RA...     Lenovo  Windows   \n",
       "2  Intel Core i3 Processor (10th Gen)8 GB DDR4 RA...       ASUS  Windows   \n",
       "3  AMD Ryzen 5 Hexa Core Processor8 GB DDR4 RAM64...         HP  Windows   \n",
       "4  Intel Core i5 Processor (10th Gen)8 GB DDR4 RA...       ASUS  Windows   \n",
       "\n",
       "  RAM Type  RAM Size Disk Type  Disk Size  \n",
       "0     DDR4         8       SSD        256  \n",
       "1     DDR4         8       SSD        512  \n",
       "2     DDR4         8       SSD        512  \n",
       "3     DDR4         8       SSD        512  \n",
       "4     DDR4         8       SSD        512  "
      ]
     },
     "execution_count": 46,
     "metadata": {},
     "output_type": "execute_result"
    }
   ],
   "source": [
    "df['Disk Size'] = Disk_size\n",
    "\n",
    "df.head()"
   ]
  },
  {
   "cell_type": "code",
   "execution_count": 47,
   "id": "ff5cda8d",
   "metadata": {},
   "outputs": [],
   "source": [
    "df['Disk Size'] = df['Disk Size'].replace(1,1024)\n",
    "df['Disk Size'] = df['Disk Size'].replace(2,2048)"
   ]
  },
  {
   "cell_type": "code",
   "execution_count": 48,
   "id": "e8325347",
   "metadata": {},
   "outputs": [
    {
     "data": {
      "text/plain": [
       "512     375\n",
       "1024    223\n",
       "256      99\n",
       "128       8\n",
       "64        7\n",
       "2048      7\n",
       "32        1\n",
       "Name: Disk Size, dtype: int64"
      ]
     },
     "execution_count": 48,
     "metadata": {},
     "output_type": "execute_result"
    }
   ],
   "source": [
    "df['Disk Size'].value_counts()"
   ]
  },
  {
   "cell_type": "code",
   "execution_count": 49,
   "id": "9b558b5d",
   "metadata": {},
   "outputs": [
    {
     "data": {
      "text/plain": [
       "512     375\n",
       "1024    230\n",
       "256      99\n",
       "128      16\n",
       "Name: Disk Size, dtype: int64"
      ]
     },
     "execution_count": 49,
     "metadata": {},
     "output_type": "execute_result"
    }
   ],
   "source": [
    "df['Disk Size'] = df['Disk Size'].replace(32,128)\n",
    "df['Disk Size'] = df['Disk Size'].replace(64,128)\n",
    "df['Disk Size'] = df['Disk Size'].replace(2048,1024)\n",
    "\n",
    "df['Disk Size'].value_counts()"
   ]
  },
  {
   "cell_type": "markdown",
   "id": "7fe2db2e",
   "metadata": {},
   "source": [
    "#### Extracting Processor from Feature column"
   ]
  },
  {
   "cell_type": "code",
   "execution_count": 50,
   "id": "13e054fd",
   "metadata": {},
   "outputs": [
    {
     "data": {
      "text/plain": [
       "Intel     390\n",
       "AMD       310\n",
       "Others     20\n",
       "Name: Processor, dtype: int64"
      ]
     },
     "execution_count": 50,
     "metadata": {},
     "output_type": "execute_result"
    }
   ],
   "source": [
    "def processor_brand(text):\n",
    "    if re.search(r\"intel\", text, re.IGNORECASE):\n",
    "        return \"Intel\"\n",
    "    elif re.search(r\"amd\", text, re.IGNORECASE):\n",
    "        return \"AMD\"\n",
    "    else:\n",
    "        return \"Others\"\n",
    "\n",
    "\n",
    "df['Processor'] = df['Feature'].apply(processor_brand)\n",
    "df['Processor'].value_counts()"
   ]
  },
  {
   "cell_type": "code",
   "execution_count": 51,
   "id": "91803702",
   "metadata": {},
   "outputs": [
    {
     "data": {
      "text/html": [
       "<div>\n",
       "<style scoped>\n",
       "    .dataframe tbody tr th:only-of-type {\n",
       "        vertical-align: middle;\n",
       "    }\n",
       "\n",
       "    .dataframe tbody tr th {\n",
       "        vertical-align: top;\n",
       "    }\n",
       "\n",
       "    .dataframe thead th {\n",
       "        text-align: right;\n",
       "    }\n",
       "</style>\n",
       "<table border=\"1\" class=\"dataframe\">\n",
       "  <thead>\n",
       "    <tr style=\"text-align: right;\">\n",
       "      <th></th>\n",
       "      <th>Product</th>\n",
       "      <th>Rating</th>\n",
       "      <th>MRP</th>\n",
       "      <th>Feature</th>\n",
       "      <th>Brand Name</th>\n",
       "      <th>OS</th>\n",
       "      <th>RAM Type</th>\n",
       "      <th>RAM Size</th>\n",
       "      <th>Disk Type</th>\n",
       "      <th>Disk Size</th>\n",
       "      <th>Processor</th>\n",
       "    </tr>\n",
       "  </thead>\n",
       "  <tbody>\n",
       "    <tr>\n",
       "      <th>0</th>\n",
       "      <td>Lenovo IdeaPad 3 Core i3 11th Gen - (8 GB/256 ...</td>\n",
       "      <td>4.2</td>\n",
       "      <td>10.518430</td>\n",
       "      <td>Intel Core i3 Processor (11th Gen)8 GB DDR4 RA...</td>\n",
       "      <td>Lenovo</td>\n",
       "      <td>Windows</td>\n",
       "      <td>DDR4</td>\n",
       "      <td>8</td>\n",
       "      <td>SSD</td>\n",
       "      <td>256</td>\n",
       "      <td>Intel</td>\n",
       "    </tr>\n",
       "    <tr>\n",
       "      <th>1</th>\n",
       "      <td>Lenovo IdeaPad 3 Core i3 11th Gen - (8 GB/512 ...</td>\n",
       "      <td>4.2</td>\n",
       "      <td>10.596410</td>\n",
       "      <td>Intel Core i3 Processor (11th Gen)8 GB DDR4 RA...</td>\n",
       "      <td>Lenovo</td>\n",
       "      <td>Windows</td>\n",
       "      <td>DDR4</td>\n",
       "      <td>8</td>\n",
       "      <td>SSD</td>\n",
       "      <td>512</td>\n",
       "      <td>Intel</td>\n",
       "    </tr>\n",
       "    <tr>\n",
       "      <th>2</th>\n",
       "      <td>ASUS VivoBook 15 (2022) Core i3 10th Gen - (8 ...</td>\n",
       "      <td>4.3</td>\n",
       "      <td>10.403990</td>\n",
       "      <td>Intel Core i3 Processor (10th Gen)8 GB DDR4 RA...</td>\n",
       "      <td>ASUS</td>\n",
       "      <td>Windows</td>\n",
       "      <td>DDR4</td>\n",
       "      <td>8</td>\n",
       "      <td>SSD</td>\n",
       "      <td>512</td>\n",
       "      <td>Intel</td>\n",
       "    </tr>\n",
       "    <tr>\n",
       "      <th>3</th>\n",
       "      <td>HP Pavilion Ryzen 5 Hexa Core AMD R5-5600H - (...</td>\n",
       "      <td>4.4</td>\n",
       "      <td>10.819598</td>\n",
       "      <td>AMD Ryzen 5 Hexa Core Processor8 GB DDR4 RAM64...</td>\n",
       "      <td>HP</td>\n",
       "      <td>Windows</td>\n",
       "      <td>DDR4</td>\n",
       "      <td>8</td>\n",
       "      <td>SSD</td>\n",
       "      <td>512</td>\n",
       "      <td>AMD</td>\n",
       "    </tr>\n",
       "    <tr>\n",
       "      <th>4</th>\n",
       "      <td>ASUS TUF Gaming F15 Core i5 10th Gen - (8 GB/5...</td>\n",
       "      <td>4.4</td>\n",
       "      <td>10.819598</td>\n",
       "      <td>Intel Core i5 Processor (10th Gen)8 GB DDR4 RA...</td>\n",
       "      <td>ASUS</td>\n",
       "      <td>Windows</td>\n",
       "      <td>DDR4</td>\n",
       "      <td>8</td>\n",
       "      <td>SSD</td>\n",
       "      <td>512</td>\n",
       "      <td>Intel</td>\n",
       "    </tr>\n",
       "  </tbody>\n",
       "</table>\n",
       "</div>"
      ],
      "text/plain": [
       "                                             Product  Rating        MRP  \\\n",
       "0  Lenovo IdeaPad 3 Core i3 11th Gen - (8 GB/256 ...     4.2  10.518430   \n",
       "1  Lenovo IdeaPad 3 Core i3 11th Gen - (8 GB/512 ...     4.2  10.596410   \n",
       "2  ASUS VivoBook 15 (2022) Core i3 10th Gen - (8 ...     4.3  10.403990   \n",
       "3  HP Pavilion Ryzen 5 Hexa Core AMD R5-5600H - (...     4.4  10.819598   \n",
       "4  ASUS TUF Gaming F15 Core i5 10th Gen - (8 GB/5...     4.4  10.819598   \n",
       "\n",
       "                                             Feature Brand Name       OS  \\\n",
       "0  Intel Core i3 Processor (11th Gen)8 GB DDR4 RA...     Lenovo  Windows   \n",
       "1  Intel Core i3 Processor (11th Gen)8 GB DDR4 RA...     Lenovo  Windows   \n",
       "2  Intel Core i3 Processor (10th Gen)8 GB DDR4 RA...       ASUS  Windows   \n",
       "3  AMD Ryzen 5 Hexa Core Processor8 GB DDR4 RAM64...         HP  Windows   \n",
       "4  Intel Core i5 Processor (10th Gen)8 GB DDR4 RA...       ASUS  Windows   \n",
       "\n",
       "  RAM Type  RAM Size Disk Type  Disk Size Processor  \n",
       "0     DDR4         8       SSD        256     Intel  \n",
       "1     DDR4         8       SSD        512     Intel  \n",
       "2     DDR4         8       SSD        512     Intel  \n",
       "3     DDR4         8       SSD        512       AMD  \n",
       "4     DDR4         8       SSD        512     Intel  "
      ]
     },
     "execution_count": 51,
     "metadata": {},
     "output_type": "execute_result"
    }
   ],
   "source": [
    "df.head()"
   ]
  },
  {
   "cell_type": "markdown",
   "id": "94d2cc86",
   "metadata": {},
   "source": [
    "#### Extracting Warranty"
   ]
  },
  {
   "cell_type": "code",
   "execution_count": 52,
   "id": "8cbf0e1f",
   "metadata": {},
   "outputs": [
    {
     "data": {
      "text/plain": [
       "1 year warranty         479\n",
       "2 years warranty         85\n",
       "20212 years warranty     68\n",
       "20211 years warranty     41\n",
       "20191 years warranty     31\n",
       "20193 years warranty      4\n",
       "3 years warranty          4\n",
       "32 years warranty         3\n",
       "20192 years warranty      3\n",
       "3652 years warranty       1\n",
       "Name: Warranty, dtype: int64"
      ]
     },
     "execution_count": 52,
     "metadata": {},
     "output_type": "execute_result"
    }
   ],
   "source": [
    "\n",
    "regex_warranty = r'(\\d+)\\s*(?:year|yr|y)(?:s)?'\n",
    "\n",
    "\n",
    "def extract_warranty(text):\n",
    "    match = re.search(regex_warranty, text, re.IGNORECASE)\n",
    "    if match:\n",
    "        years = int(match.group(1))\n",
    "        if years == 1:\n",
    "            return f\"{years} year warranty\"\n",
    "        elif years > 1:\n",
    "            return f\"{years} years warranty\"\n",
    "    else:\n",
    "        return None\n",
    "\n",
    "\n",
    "df['Warranty'] = df['Feature'].apply(extract_warranty)\n",
    "df['Warranty'].value_counts()"
   ]
  },
  {
   "cell_type": "code",
   "execution_count": 53,
   "id": "0271682e",
   "metadata": {},
   "outputs": [],
   "source": [
    "df['Warranty'] = df['Warranty'].str.replace('1 year warranty','1')\n",
    "df['Warranty'] = df['Warranty'].str.replace('2 years warranty','2')\n",
    "df['Warranty'] = df['Warranty'].str.replace('20212 years warranty','2')\n",
    "df['Warranty'] = df['Warranty'].str.replace('20211 years warranty','1')\n",
    "df['Warranty'] = df['Warranty'].str.replace('20191 years warranty','1')\n",
    "df['Warranty'] = df['Warranty'].str.replace('20193 years warranty','3')\n",
    "df['Warranty'] = df['Warranty'].str.replace('3 years warranty','3')\n",
    "df['Warranty'] = df['Warranty'].str.replace('32 years warranty','2')\n",
    "df['Warranty'] = df['Warranty'].str.replace('20192 years warranty','2')\n",
    "df['Warranty'] = df['Warranty'].str.replace('3652 years warranty','2')"
   ]
  },
  {
   "cell_type": "code",
   "execution_count": 54,
   "id": "a40cc82c",
   "metadata": {},
   "outputs": [
    {
     "data": {
      "text/plain": [
       "1        551\n",
       "2         85\n",
       "20212     68\n",
       "3          8\n",
       "32         3\n",
       "20192      3\n",
       "3652       1\n",
       "Name: Warranty, dtype: int64"
      ]
     },
     "execution_count": 54,
     "metadata": {},
     "output_type": "execute_result"
    }
   ],
   "source": [
    "df['Warranty'].value_counts()"
   ]
  },
  {
   "cell_type": "code",
   "execution_count": 55,
   "id": "33905465",
   "metadata": {},
   "outputs": [],
   "source": [
    "df['Warranty'] = df['Warranty'].str.replace('20212','2')\n",
    "df['Warranty'] = df['Warranty'].str.replace('32','2')\n",
    "df['Warranty'] = df['Warranty'].str.replace('20192','2')\n",
    "df['Warranty'] = df['Warranty'].str.replace('20212','2')\n",
    "df['Warranty'] = df['Warranty'].str.replace('3652','2')"
   ]
  },
  {
   "cell_type": "code",
   "execution_count": 56,
   "id": "cf13f429",
   "metadata": {},
   "outputs": [
    {
     "data": {
      "text/plain": [
       "1    551\n",
       "2    160\n",
       "3      8\n",
       "Name: Warranty, dtype: int64"
      ]
     },
     "execution_count": 56,
     "metadata": {},
     "output_type": "execute_result"
    }
   ],
   "source": [
    "df['Warranty'].value_counts()"
   ]
  },
  {
   "cell_type": "code",
   "execution_count": 57,
   "id": "50c06525",
   "metadata": {},
   "outputs": [
    {
     "data": {
      "text/plain": [
       "1    551\n",
       "2    168\n",
       "Name: Warranty, dtype: int64"
      ]
     },
     "execution_count": 57,
     "metadata": {},
     "output_type": "execute_result"
    }
   ],
   "source": [
    "df['Warranty'] = df['Warranty'].str.replace('3','2')\n",
    "\n",
    "df['Warranty'].value_counts()"
   ]
  },
  {
   "cell_type": "code",
   "execution_count": 58,
   "id": "18615082",
   "metadata": {},
   "outputs": [
    {
     "data": {
      "text/plain": [
       "1"
      ]
     },
     "execution_count": 58,
     "metadata": {},
     "output_type": "execute_result"
    }
   ],
   "source": [
    "df['Warranty'].isna().sum()"
   ]
  },
  {
   "cell_type": "code",
   "execution_count": 59,
   "id": "e40f51cb",
   "metadata": {},
   "outputs": [],
   "source": [
    "df['Warranty'].fillna('2', inplace=True)"
   ]
  },
  {
   "cell_type": "code",
   "execution_count": 60,
   "id": "ef5e1927",
   "metadata": {},
   "outputs": [],
   "source": [
    "df['Warranty'] = df['Warranty'].astype('int32')"
   ]
  },
  {
   "cell_type": "code",
   "execution_count": 61,
   "id": "8d9f5e2e",
   "metadata": {},
   "outputs": [
    {
     "name": "stdout",
     "output_type": "stream",
     "text": [
      "<class 'pandas.core.frame.DataFrame'>\n",
      "RangeIndex: 720 entries, 0 to 719\n",
      "Data columns (total 12 columns):\n",
      " #   Column      Non-Null Count  Dtype  \n",
      "---  ------      --------------  -----  \n",
      " 0   Product     720 non-null    object \n",
      " 1   Rating      581 non-null    float64\n",
      " 2   MRP         720 non-null    float64\n",
      " 3   Feature     720 non-null    object \n",
      " 4   Brand Name  720 non-null    object \n",
      " 5   OS          720 non-null    object \n",
      " 6   RAM Type    720 non-null    object \n",
      " 7   RAM Size    720 non-null    int32  \n",
      " 8   Disk Type   720 non-null    object \n",
      " 9   Disk Size   720 non-null    int32  \n",
      " 10  Processor   720 non-null    object \n",
      " 11  Warranty    720 non-null    int32  \n",
      "dtypes: float64(2), int32(3), object(7)\n",
      "memory usage: 59.2+ KB\n"
     ]
    }
   ],
   "source": [
    "df.info()"
   ]
  },
  {
   "cell_type": "code",
   "execution_count": 62,
   "id": "1d260bba",
   "metadata": {},
   "outputs": [
    {
     "data": {
      "text/html": [
       "<div>\n",
       "<style scoped>\n",
       "    .dataframe tbody tr th:only-of-type {\n",
       "        vertical-align: middle;\n",
       "    }\n",
       "\n",
       "    .dataframe tbody tr th {\n",
       "        vertical-align: top;\n",
       "    }\n",
       "\n",
       "    .dataframe thead th {\n",
       "        text-align: right;\n",
       "    }\n",
       "</style>\n",
       "<table border=\"1\" class=\"dataframe\">\n",
       "  <thead>\n",
       "    <tr style=\"text-align: right;\">\n",
       "      <th></th>\n",
       "      <th>Product</th>\n",
       "      <th>Rating</th>\n",
       "      <th>MRP</th>\n",
       "      <th>Feature</th>\n",
       "      <th>Brand Name</th>\n",
       "      <th>OS</th>\n",
       "      <th>RAM Type</th>\n",
       "      <th>RAM Size</th>\n",
       "      <th>Disk Type</th>\n",
       "      <th>Disk Size</th>\n",
       "      <th>Processor</th>\n",
       "      <th>Warranty</th>\n",
       "    </tr>\n",
       "  </thead>\n",
       "  <tbody>\n",
       "    <tr>\n",
       "      <th>0</th>\n",
       "      <td>Lenovo IdeaPad 3 Core i3 11th Gen - (8 GB/256 ...</td>\n",
       "      <td>4.2</td>\n",
       "      <td>10.518430</td>\n",
       "      <td>Intel Core i3 Processor (11th Gen)8 GB DDR4 RA...</td>\n",
       "      <td>Lenovo</td>\n",
       "      <td>Windows</td>\n",
       "      <td>DDR4</td>\n",
       "      <td>8</td>\n",
       "      <td>SSD</td>\n",
       "      <td>256</td>\n",
       "      <td>Intel</td>\n",
       "      <td>2</td>\n",
       "    </tr>\n",
       "    <tr>\n",
       "      <th>1</th>\n",
       "      <td>Lenovo IdeaPad 3 Core i3 11th Gen - (8 GB/512 ...</td>\n",
       "      <td>4.2</td>\n",
       "      <td>10.596410</td>\n",
       "      <td>Intel Core i3 Processor (11th Gen)8 GB DDR4 RA...</td>\n",
       "      <td>Lenovo</td>\n",
       "      <td>Windows</td>\n",
       "      <td>DDR4</td>\n",
       "      <td>8</td>\n",
       "      <td>SSD</td>\n",
       "      <td>512</td>\n",
       "      <td>Intel</td>\n",
       "      <td>2</td>\n",
       "    </tr>\n",
       "    <tr>\n",
       "      <th>2</th>\n",
       "      <td>ASUS VivoBook 15 (2022) Core i3 10th Gen - (8 ...</td>\n",
       "      <td>4.3</td>\n",
       "      <td>10.403990</td>\n",
       "      <td>Intel Core i3 Processor (10th Gen)8 GB DDR4 RA...</td>\n",
       "      <td>ASUS</td>\n",
       "      <td>Windows</td>\n",
       "      <td>DDR4</td>\n",
       "      <td>8</td>\n",
       "      <td>SSD</td>\n",
       "      <td>512</td>\n",
       "      <td>Intel</td>\n",
       "      <td>1</td>\n",
       "    </tr>\n",
       "    <tr>\n",
       "      <th>3</th>\n",
       "      <td>HP Pavilion Ryzen 5 Hexa Core AMD R5-5600H - (...</td>\n",
       "      <td>4.4</td>\n",
       "      <td>10.819598</td>\n",
       "      <td>AMD Ryzen 5 Hexa Core Processor8 GB DDR4 RAM64...</td>\n",
       "      <td>HP</td>\n",
       "      <td>Windows</td>\n",
       "      <td>DDR4</td>\n",
       "      <td>8</td>\n",
       "      <td>SSD</td>\n",
       "      <td>512</td>\n",
       "      <td>AMD</td>\n",
       "      <td>1</td>\n",
       "    </tr>\n",
       "    <tr>\n",
       "      <th>4</th>\n",
       "      <td>ASUS TUF Gaming F15 Core i5 10th Gen - (8 GB/5...</td>\n",
       "      <td>4.4</td>\n",
       "      <td>10.819598</td>\n",
       "      <td>Intel Core i5 Processor (10th Gen)8 GB DDR4 RA...</td>\n",
       "      <td>ASUS</td>\n",
       "      <td>Windows</td>\n",
       "      <td>DDR4</td>\n",
       "      <td>8</td>\n",
       "      <td>SSD</td>\n",
       "      <td>512</td>\n",
       "      <td>Intel</td>\n",
       "      <td>1</td>\n",
       "    </tr>\n",
       "  </tbody>\n",
       "</table>\n",
       "</div>"
      ],
      "text/plain": [
       "                                             Product  Rating        MRP  \\\n",
       "0  Lenovo IdeaPad 3 Core i3 11th Gen - (8 GB/256 ...     4.2  10.518430   \n",
       "1  Lenovo IdeaPad 3 Core i3 11th Gen - (8 GB/512 ...     4.2  10.596410   \n",
       "2  ASUS VivoBook 15 (2022) Core i3 10th Gen - (8 ...     4.3  10.403990   \n",
       "3  HP Pavilion Ryzen 5 Hexa Core AMD R5-5600H - (...     4.4  10.819598   \n",
       "4  ASUS TUF Gaming F15 Core i5 10th Gen - (8 GB/5...     4.4  10.819598   \n",
       "\n",
       "                                             Feature Brand Name       OS  \\\n",
       "0  Intel Core i3 Processor (11th Gen)8 GB DDR4 RA...     Lenovo  Windows   \n",
       "1  Intel Core i3 Processor (11th Gen)8 GB DDR4 RA...     Lenovo  Windows   \n",
       "2  Intel Core i3 Processor (10th Gen)8 GB DDR4 RA...       ASUS  Windows   \n",
       "3  AMD Ryzen 5 Hexa Core Processor8 GB DDR4 RAM64...         HP  Windows   \n",
       "4  Intel Core i5 Processor (10th Gen)8 GB DDR4 RA...       ASUS  Windows   \n",
       "\n",
       "  RAM Type  RAM Size Disk Type  Disk Size Processor  Warranty  \n",
       "0     DDR4         8       SSD        256     Intel         2  \n",
       "1     DDR4         8       SSD        512     Intel         2  \n",
       "2     DDR4         8       SSD        512     Intel         1  \n",
       "3     DDR4         8       SSD        512       AMD         1  \n",
       "4     DDR4         8       SSD        512     Intel         1  "
      ]
     },
     "execution_count": 62,
     "metadata": {},
     "output_type": "execute_result"
    }
   ],
   "source": [
    "df.head()"
   ]
  },
  {
   "cell_type": "code",
   "execution_count": 63,
   "id": "45e14d3d",
   "metadata": {},
   "outputs": [],
   "source": [
    "df = df.rename(columns={'MRP': 'Price'})"
   ]
  },
  {
   "cell_type": "code",
   "execution_count": 64,
   "id": "a266a842",
   "metadata": {},
   "outputs": [
    {
     "data": {
      "text/html": [
       "<div>\n",
       "<style scoped>\n",
       "    .dataframe tbody tr th:only-of-type {\n",
       "        vertical-align: middle;\n",
       "    }\n",
       "\n",
       "    .dataframe tbody tr th {\n",
       "        vertical-align: top;\n",
       "    }\n",
       "\n",
       "    .dataframe thead th {\n",
       "        text-align: right;\n",
       "    }\n",
       "</style>\n",
       "<table border=\"1\" class=\"dataframe\">\n",
       "  <thead>\n",
       "    <tr style=\"text-align: right;\">\n",
       "      <th></th>\n",
       "      <th>Product</th>\n",
       "      <th>Rating</th>\n",
       "      <th>Price</th>\n",
       "      <th>Feature</th>\n",
       "      <th>Brand Name</th>\n",
       "      <th>OS</th>\n",
       "      <th>RAM Type</th>\n",
       "      <th>RAM Size</th>\n",
       "      <th>Disk Type</th>\n",
       "      <th>Disk Size</th>\n",
       "      <th>Processor</th>\n",
       "      <th>Warranty</th>\n",
       "    </tr>\n",
       "  </thead>\n",
       "  <tbody>\n",
       "    <tr>\n",
       "      <th>0</th>\n",
       "      <td>Lenovo IdeaPad 3 Core i3 11th Gen - (8 GB/256 ...</td>\n",
       "      <td>4.2</td>\n",
       "      <td>10.518430</td>\n",
       "      <td>Intel Core i3 Processor (11th Gen)8 GB DDR4 RA...</td>\n",
       "      <td>Lenovo</td>\n",
       "      <td>Windows</td>\n",
       "      <td>DDR4</td>\n",
       "      <td>8</td>\n",
       "      <td>SSD</td>\n",
       "      <td>256</td>\n",
       "      <td>Intel</td>\n",
       "      <td>2</td>\n",
       "    </tr>\n",
       "    <tr>\n",
       "      <th>1</th>\n",
       "      <td>Lenovo IdeaPad 3 Core i3 11th Gen - (8 GB/512 ...</td>\n",
       "      <td>4.2</td>\n",
       "      <td>10.596410</td>\n",
       "      <td>Intel Core i3 Processor (11th Gen)8 GB DDR4 RA...</td>\n",
       "      <td>Lenovo</td>\n",
       "      <td>Windows</td>\n",
       "      <td>DDR4</td>\n",
       "      <td>8</td>\n",
       "      <td>SSD</td>\n",
       "      <td>512</td>\n",
       "      <td>Intel</td>\n",
       "      <td>2</td>\n",
       "    </tr>\n",
       "    <tr>\n",
       "      <th>2</th>\n",
       "      <td>ASUS VivoBook 15 (2022) Core i3 10th Gen - (8 ...</td>\n",
       "      <td>4.3</td>\n",
       "      <td>10.403990</td>\n",
       "      <td>Intel Core i3 Processor (10th Gen)8 GB DDR4 RA...</td>\n",
       "      <td>ASUS</td>\n",
       "      <td>Windows</td>\n",
       "      <td>DDR4</td>\n",
       "      <td>8</td>\n",
       "      <td>SSD</td>\n",
       "      <td>512</td>\n",
       "      <td>Intel</td>\n",
       "      <td>1</td>\n",
       "    </tr>\n",
       "    <tr>\n",
       "      <th>3</th>\n",
       "      <td>HP Pavilion Ryzen 5 Hexa Core AMD R5-5600H - (...</td>\n",
       "      <td>4.4</td>\n",
       "      <td>10.819598</td>\n",
       "      <td>AMD Ryzen 5 Hexa Core Processor8 GB DDR4 RAM64...</td>\n",
       "      <td>HP</td>\n",
       "      <td>Windows</td>\n",
       "      <td>DDR4</td>\n",
       "      <td>8</td>\n",
       "      <td>SSD</td>\n",
       "      <td>512</td>\n",
       "      <td>AMD</td>\n",
       "      <td>1</td>\n",
       "    </tr>\n",
       "    <tr>\n",
       "      <th>4</th>\n",
       "      <td>ASUS TUF Gaming F15 Core i5 10th Gen - (8 GB/5...</td>\n",
       "      <td>4.4</td>\n",
       "      <td>10.819598</td>\n",
       "      <td>Intel Core i5 Processor (10th Gen)8 GB DDR4 RA...</td>\n",
       "      <td>ASUS</td>\n",
       "      <td>Windows</td>\n",
       "      <td>DDR4</td>\n",
       "      <td>8</td>\n",
       "      <td>SSD</td>\n",
       "      <td>512</td>\n",
       "      <td>Intel</td>\n",
       "      <td>1</td>\n",
       "    </tr>\n",
       "  </tbody>\n",
       "</table>\n",
       "</div>"
      ],
      "text/plain": [
       "                                             Product  Rating      Price  \\\n",
       "0  Lenovo IdeaPad 3 Core i3 11th Gen - (8 GB/256 ...     4.2  10.518430   \n",
       "1  Lenovo IdeaPad 3 Core i3 11th Gen - (8 GB/512 ...     4.2  10.596410   \n",
       "2  ASUS VivoBook 15 (2022) Core i3 10th Gen - (8 ...     4.3  10.403990   \n",
       "3  HP Pavilion Ryzen 5 Hexa Core AMD R5-5600H - (...     4.4  10.819598   \n",
       "4  ASUS TUF Gaming F15 Core i5 10th Gen - (8 GB/5...     4.4  10.819598   \n",
       "\n",
       "                                             Feature Brand Name       OS  \\\n",
       "0  Intel Core i3 Processor (11th Gen)8 GB DDR4 RA...     Lenovo  Windows   \n",
       "1  Intel Core i3 Processor (11th Gen)8 GB DDR4 RA...     Lenovo  Windows   \n",
       "2  Intel Core i3 Processor (10th Gen)8 GB DDR4 RA...       ASUS  Windows   \n",
       "3  AMD Ryzen 5 Hexa Core Processor8 GB DDR4 RAM64...         HP  Windows   \n",
       "4  Intel Core i5 Processor (10th Gen)8 GB DDR4 RA...       ASUS  Windows   \n",
       "\n",
       "  RAM Type  RAM Size Disk Type  Disk Size Processor  Warranty  \n",
       "0     DDR4         8       SSD        256     Intel         2  \n",
       "1     DDR4         8       SSD        512     Intel         2  \n",
       "2     DDR4         8       SSD        512     Intel         1  \n",
       "3     DDR4         8       SSD        512       AMD         1  \n",
       "4     DDR4         8       SSD        512     Intel         1  "
      ]
     },
     "execution_count": 64,
     "metadata": {},
     "output_type": "execute_result"
    }
   ],
   "source": [
    "df.head()"
   ]
  },
  {
   "cell_type": "code",
   "execution_count": 65,
   "id": "e3aefdfe",
   "metadata": {},
   "outputs": [
    {
     "data": {
      "text/html": [
       "<div>\n",
       "<style scoped>\n",
       "    .dataframe tbody tr th:only-of-type {\n",
       "        vertical-align: middle;\n",
       "    }\n",
       "\n",
       "    .dataframe tbody tr th {\n",
       "        vertical-align: top;\n",
       "    }\n",
       "\n",
       "    .dataframe thead th {\n",
       "        text-align: right;\n",
       "    }\n",
       "</style>\n",
       "<table border=\"1\" class=\"dataframe\">\n",
       "  <thead>\n",
       "    <tr style=\"text-align: right;\">\n",
       "      <th></th>\n",
       "      <th>Brand Name</th>\n",
       "      <th>OS</th>\n",
       "      <th>RAM Type</th>\n",
       "      <th>RAM Size</th>\n",
       "      <th>Processor</th>\n",
       "      <th>Warranty</th>\n",
       "      <th>Disk Type</th>\n",
       "      <th>Disk Size</th>\n",
       "      <th>Price</th>\n",
       "    </tr>\n",
       "  </thead>\n",
       "  <tbody>\n",
       "    <tr>\n",
       "      <th>0</th>\n",
       "      <td>Lenovo</td>\n",
       "      <td>Windows</td>\n",
       "      <td>DDR4</td>\n",
       "      <td>8</td>\n",
       "      <td>Intel</td>\n",
       "      <td>2</td>\n",
       "      <td>SSD</td>\n",
       "      <td>256</td>\n",
       "      <td>10.518430</td>\n",
       "    </tr>\n",
       "    <tr>\n",
       "      <th>1</th>\n",
       "      <td>Lenovo</td>\n",
       "      <td>Windows</td>\n",
       "      <td>DDR4</td>\n",
       "      <td>8</td>\n",
       "      <td>Intel</td>\n",
       "      <td>2</td>\n",
       "      <td>SSD</td>\n",
       "      <td>512</td>\n",
       "      <td>10.596410</td>\n",
       "    </tr>\n",
       "    <tr>\n",
       "      <th>2</th>\n",
       "      <td>ASUS</td>\n",
       "      <td>Windows</td>\n",
       "      <td>DDR4</td>\n",
       "      <td>8</td>\n",
       "      <td>Intel</td>\n",
       "      <td>1</td>\n",
       "      <td>SSD</td>\n",
       "      <td>512</td>\n",
       "      <td>10.403990</td>\n",
       "    </tr>\n",
       "    <tr>\n",
       "      <th>3</th>\n",
       "      <td>HP</td>\n",
       "      <td>Windows</td>\n",
       "      <td>DDR4</td>\n",
       "      <td>8</td>\n",
       "      <td>AMD</td>\n",
       "      <td>1</td>\n",
       "      <td>SSD</td>\n",
       "      <td>512</td>\n",
       "      <td>10.819598</td>\n",
       "    </tr>\n",
       "    <tr>\n",
       "      <th>4</th>\n",
       "      <td>ASUS</td>\n",
       "      <td>Windows</td>\n",
       "      <td>DDR4</td>\n",
       "      <td>8</td>\n",
       "      <td>Intel</td>\n",
       "      <td>1</td>\n",
       "      <td>SSD</td>\n",
       "      <td>512</td>\n",
       "      <td>10.819598</td>\n",
       "    </tr>\n",
       "  </tbody>\n",
       "</table>\n",
       "</div>"
      ],
      "text/plain": [
       "  Brand Name       OS RAM Type  RAM Size Processor  Warranty Disk Type  \\\n",
       "0     Lenovo  Windows     DDR4         8     Intel         2       SSD   \n",
       "1     Lenovo  Windows     DDR4         8     Intel         2       SSD   \n",
       "2       ASUS  Windows     DDR4         8     Intel         1       SSD   \n",
       "3         HP  Windows     DDR4         8       AMD         1       SSD   \n",
       "4       ASUS  Windows     DDR4         8     Intel         1       SSD   \n",
       "\n",
       "   Disk Size      Price  \n",
       "0        256  10.518430  \n",
       "1        512  10.596410  \n",
       "2        512  10.403990  \n",
       "3        512  10.819598  \n",
       "4        512  10.819598  "
      ]
     },
     "execution_count": 65,
     "metadata": {},
     "output_type": "execute_result"
    }
   ],
   "source": [
    "# Reassigning the columns\n",
    "\n",
    "df = df[['Brand Name','OS','RAM Type','RAM Size','Processor','Warranty','Disk Type','Disk Size', 'Price']]\n",
    "\n",
    "df.head()"
   ]
  },
  {
   "cell_type": "code",
   "execution_count": 66,
   "id": "11f2a4b3",
   "metadata": {},
   "outputs": [],
   "source": [
    "# Converting Price Column into normal using exponential\n",
    "\n",
    "price = df['Price']\n",
    "\n",
    "df['Price'] = np.exp(price)"
   ]
  },
  {
   "cell_type": "code",
   "execution_count": 67,
   "id": "480e0a75",
   "metadata": {},
   "outputs": [
    {
     "data": {
      "text/plain": [
       "39990     61\n",
       "36991     39\n",
       "85991     34\n",
       "38706     30\n",
       "196991    30\n",
       "          ..\n",
       "301990     1\n",
       "37001      1\n",
       "42691      1\n",
       "140991     1\n",
       "23491      1\n",
       "Name: Price, Length: 250, dtype: int64"
      ]
     },
     "execution_count": 67,
     "metadata": {},
     "output_type": "execute_result"
    }
   ],
   "source": [
    "df['Price'] = df['Price'].astype('int')\n",
    "\n",
    "df['Price'].value_counts()"
   ]
  },
  {
   "cell_type": "code",
   "execution_count": 68,
   "id": "81e16fe8",
   "metadata": {},
   "outputs": [],
   "source": [
    "df.to_csv(\"cleaned_laptop_details.csv\")"
   ]
  },
  {
   "cell_type": "code",
   "execution_count": 69,
   "id": "88d8f9f9",
   "metadata": {},
   "outputs": [
    {
     "data": {
      "text/html": [
       "<div>\n",
       "<style scoped>\n",
       "    .dataframe tbody tr th:only-of-type {\n",
       "        vertical-align: middle;\n",
       "    }\n",
       "\n",
       "    .dataframe tbody tr th {\n",
       "        vertical-align: top;\n",
       "    }\n",
       "\n",
       "    .dataframe thead th {\n",
       "        text-align: right;\n",
       "    }\n",
       "</style>\n",
       "<table border=\"1\" class=\"dataframe\">\n",
       "  <thead>\n",
       "    <tr style=\"text-align: right;\">\n",
       "      <th></th>\n",
       "      <th>Brand Name</th>\n",
       "      <th>OS</th>\n",
       "      <th>RAM Type</th>\n",
       "      <th>RAM Size</th>\n",
       "      <th>Processor</th>\n",
       "      <th>Warranty</th>\n",
       "      <th>Disk Type</th>\n",
       "      <th>Disk Size</th>\n",
       "      <th>Price</th>\n",
       "    </tr>\n",
       "  </thead>\n",
       "  <tbody>\n",
       "    <tr>\n",
       "      <th>0</th>\n",
       "      <td>Lenovo</td>\n",
       "      <td>Windows</td>\n",
       "      <td>DDR4</td>\n",
       "      <td>8</td>\n",
       "      <td>Intel</td>\n",
       "      <td>2</td>\n",
       "      <td>SSD</td>\n",
       "      <td>256</td>\n",
       "      <td>36991</td>\n",
       "    </tr>\n",
       "    <tr>\n",
       "      <th>1</th>\n",
       "      <td>Lenovo</td>\n",
       "      <td>Windows</td>\n",
       "      <td>DDR4</td>\n",
       "      <td>8</td>\n",
       "      <td>Intel</td>\n",
       "      <td>2</td>\n",
       "      <td>SSD</td>\n",
       "      <td>512</td>\n",
       "      <td>39990</td>\n",
       "    </tr>\n",
       "    <tr>\n",
       "      <th>2</th>\n",
       "      <td>ASUS</td>\n",
       "      <td>Windows</td>\n",
       "      <td>DDR4</td>\n",
       "      <td>8</td>\n",
       "      <td>Intel</td>\n",
       "      <td>1</td>\n",
       "      <td>SSD</td>\n",
       "      <td>512</td>\n",
       "      <td>32990</td>\n",
       "    </tr>\n",
       "    <tr>\n",
       "      <th>3</th>\n",
       "      <td>HP</td>\n",
       "      <td>Windows</td>\n",
       "      <td>DDR4</td>\n",
       "      <td>8</td>\n",
       "      <td>AMD</td>\n",
       "      <td>1</td>\n",
       "      <td>SSD</td>\n",
       "      <td>512</td>\n",
       "      <td>49990</td>\n",
       "    </tr>\n",
       "    <tr>\n",
       "      <th>4</th>\n",
       "      <td>ASUS</td>\n",
       "      <td>Windows</td>\n",
       "      <td>DDR4</td>\n",
       "      <td>8</td>\n",
       "      <td>Intel</td>\n",
       "      <td>1</td>\n",
       "      <td>SSD</td>\n",
       "      <td>512</td>\n",
       "      <td>49990</td>\n",
       "    </tr>\n",
       "  </tbody>\n",
       "</table>\n",
       "</div>"
      ],
      "text/plain": [
       "  Brand Name       OS RAM Type  RAM Size Processor  Warranty Disk Type  \\\n",
       "0     Lenovo  Windows     DDR4         8     Intel         2       SSD   \n",
       "1     Lenovo  Windows     DDR4         8     Intel         2       SSD   \n",
       "2       ASUS  Windows     DDR4         8     Intel         1       SSD   \n",
       "3         HP  Windows     DDR4         8       AMD         1       SSD   \n",
       "4       ASUS  Windows     DDR4         8     Intel         1       SSD   \n",
       "\n",
       "   Disk Size  Price  \n",
       "0        256  36991  \n",
       "1        512  39990  \n",
       "2        512  32990  \n",
       "3        512  49990  \n",
       "4        512  49990  "
      ]
     },
     "execution_count": 69,
     "metadata": {},
     "output_type": "execute_result"
    }
   ],
   "source": [
    "df.head()"
   ]
  },
  {
   "cell_type": "markdown",
   "id": "fa297fe7",
   "metadata": {},
   "source": [
    "## EDA ( Data Visualization)"
   ]
  },
  {
   "cell_type": "markdown",
   "id": "d0e3eabf",
   "metadata": {},
   "source": [
    "### Univariate analysis"
   ]
  },
  {
   "cell_type": "markdown",
   "id": "f717e219",
   "metadata": {},
   "source": [
    "#### Brand Name"
   ]
  },
  {
   "cell_type": "code",
   "execution_count": 70,
   "id": "89a2a5c4",
   "metadata": {},
   "outputs": [
    {
     "data": {
      "image/png": "[encoded data removed]",
      "text/plain": [
       "<Figure size 720x576 with 1 Axes>"
      ]
     },
     "metadata": {
      "needs_background": "light"
     },
     "output_type": "display_data"
    }
   ],
   "source": [
    "plt.figure(figsize=(10,8))\n",
    "sns.countplot(y=df['Brand Name'])\n",
    "plt.show()"
   ]
  },
  {
   "cell_type": "markdown",
   "id": "a69ae791",
   "metadata": {},
   "source": [
    "### Operating System "
   ]
  },
  {
   "cell_type": "code",
   "execution_count": 71,
   "id": "f6223f46",
   "metadata": {},
   "outputs": [
    {
     "data": {
      "image/png": "[encoded data removed]",
      "text/plain": [
       "<Figure size 720x576 with 1 Axes>"
      ]
     },
     "metadata": {
      "needs_background": "light"
     },
     "output_type": "display_data"
    }
   ],
   "source": [
    "plt.figure(figsize=(10,8))\n",
    "sns.countplot(y=df['OS'])\n",
    "plt.show()"
   ]
  },
  {
   "cell_type": "markdown",
   "id": "bb632d22",
   "metadata": {},
   "source": [
    "### RAM Type"
   ]
  },
  {
   "cell_type": "code",
   "execution_count": 72,
   "id": "2219dfeb",
   "metadata": {},
   "outputs": [
    {
     "data": {
      "image/png": "[encoded data removed]",
      "text/plain": [
       "<Figure size 720x576 with 1 Axes>"
      ]
     },
     "metadata": {
      "needs_background": "light"
     },
     "output_type": "display_data"
    }
   ],
   "source": [
    "plt.figure(figsize=(10,8))\n",
    "sns.countplot(y=df['RAM Type'])\n",
    "plt.show()"
   ]
  },
  {
   "cell_type": "markdown",
   "id": "7e25219c",
   "metadata": {},
   "source": [
    "### RAM Size"
   ]
  },
  {
   "cell_type": "code",
   "execution_count": 73,
   "id": "68d004b5",
   "metadata": {},
   "outputs": [
    {
     "data": {
      "image/png": "[encoded data removed]",
      "text/plain": [
       "<Figure size 720x576 with 1 Axes>"
      ]
     },
     "metadata": {
      "needs_background": "light"
     },
     "output_type": "display_data"
    }
   ],
   "source": [
    "plt.figure(figsize=(10,8))\n",
    "sns.countplot(y=df['RAM Size'])\n",
    "plt.show()"
   ]
  },
  {
   "cell_type": "markdown",
   "id": "51049eda",
   "metadata": {},
   "source": [
    "### Processor"
   ]
  },
  {
   "cell_type": "code",
   "execution_count": 74,
   "id": "95c99275",
   "metadata": {},
   "outputs": [
    {
     "data": {
      "image/png": "[encoded data removed]",
      "text/plain": [
       "<Figure size 720x576 with 1 Axes>"
      ]
     },
     "metadata": {
      "needs_background": "light"
     },
     "output_type": "display_data"
    }
   ],
   "source": [
    "plt.figure(figsize=(10,8))\n",
    "sns.countplot(y=df['Processor'])\n",
    "plt.show()"
   ]
  },
  {
   "cell_type": "markdown",
   "id": "05008256",
   "metadata": {},
   "source": [
    "### Warranty"
   ]
  },
  {
   "cell_type": "code",
   "execution_count": 75,
   "id": "4f6e9dca",
   "metadata": {},
   "outputs": [
    {
     "data": {
      "image/png": "[encoded data removed]",
      "text/plain": [
       "<Figure size 576x432 with 1 Axes>"
      ]
     },
     "metadata": {
      "needs_background": "light"
     },
     "output_type": "display_data"
    }
   ],
   "source": [
    "plt.figure(figsize=(8,6))\n",
    "sns.countplot(y=df['Warranty'])\n",
    "plt.show()"
   ]
  },
  {
   "cell_type": "markdown",
   "id": "5e53f3e8",
   "metadata": {},
   "source": [
    "### Disk Type"
   ]
  },
  {
   "cell_type": "code",
   "execution_count": 76,
   "id": "1402f6d1",
   "metadata": {},
   "outputs": [
    {
     "data": {
      "image/png": "[encoded data removed]",
      "text/plain": [
       "<Figure size 576x360 with 1 Axes>"
      ]
     },
     "metadata": {
      "needs_background": "light"
     },
     "output_type": "display_data"
    }
   ],
   "source": [
    "plt.figure(figsize=(8,5))\n",
    "sns.countplot(y=df['Disk Type'])\n",
    "plt.show()"
   ]
  },
  {
   "cell_type": "markdown",
   "id": "d30c3377",
   "metadata": {},
   "source": [
    "### Disk Size"
   ]
  },
  {
   "cell_type": "code",
   "execution_count": 77,
   "id": "bcf6a0a3",
   "metadata": {},
   "outputs": [
    {
     "data": {
      "image/png": "[encoded data removed]",
      "text/plain": [
       "<Figure size 576x432 with 1 Axes>"
      ]
     },
     "metadata": {
      "needs_background": "light"
     },
     "output_type": "display_data"
    }
   ],
   "source": [
    "plt.figure(figsize=(8,6))\n",
    "sns.countplot(y=df['Disk Size'])\n",
    "plt.show()"
   ]
  },
  {
   "cell_type": "markdown",
   "id": "268e1b8c",
   "metadata": {},
   "source": [
    "### Price"
   ]
  },
  {
   "cell_type": "code",
   "execution_count": 78,
   "id": "45593412",
   "metadata": {},
   "outputs": [
    {
     "data": {
      "image/png": "[encoded data removed]",
      "text/plain": [
       "<Figure size 576x432 with 1 Axes>"
      ]
     },
     "metadata": {
      "needs_background": "light"
     },
     "output_type": "display_data"
    }
   ],
   "source": [
    "plt.figure(figsize=(8,6))\n",
    "sns.histplot(x=df['Price'])\n",
    "plt.show()"
   ]
  },
  {
   "cell_type": "markdown",
   "id": "d2d3ac9e",
   "metadata": {},
   "source": [
    "## Bivariate Analysis"
   ]
  },
  {
   "cell_type": "markdown",
   "id": "e50663b1",
   "metadata": {},
   "source": []
  },
  {
   "cell_type": "code",
   "execution_count": 79,
   "id": "7966c971",
   "metadata": {},
   "outputs": [
    {
     "data": {
      "image/png": "[encoded data removed]",
      "text/plain": [
       "<Figure size 576x432 with 1 Axes>"
      ]
     },
     "metadata": {
      "needs_background": "light"
     },
     "output_type": "display_data"
    }
   ],
   "source": [
    "plt.figure(figsize=(8,6))\n",
    "sns.barplot(x='Price', y='Brand Name', data=df)\n",
    "plt.show()"
   ]
  },
  {
   "cell_type": "code",
   "execution_count": 80,
   "id": "7434ba5d",
   "metadata": {},
   "outputs": [
    {
     "data": {
      "image/png": "[encoded data removed]",
      "text/plain": [
       "<Figure size 576x432 with 1 Axes>"
      ]
     },
     "metadata": {
      "needs_background": "light"
     },
     "output_type": "display_data"
    }
   ],
   "source": [
    "plt.figure(figsize=(8,6))\n",
    "sns.barplot(x='Price', y='RAM Type', data=df)\n",
    "plt.show()"
   ]
  },
  {
   "cell_type": "code",
   "execution_count": 81,
   "id": "8dfba989",
   "metadata": {},
   "outputs": [
    {
     "data": {
      "image/png": "[encoded data removed]",
      "text/plain": [
       "<Figure size 576x432 with 1 Axes>"
      ]
     },
     "metadata": {
      "needs_background": "light"
     },
     "output_type": "display_data"
    }
   ],
   "source": [
    "plt.figure(figsize=(8,6))\n",
    "sns.barplot(x='Price', y='Processor', data=df)\n",
    "plt.show()"
   ]
  },
  {
   "cell_type": "code",
   "execution_count": 82,
   "id": "63715f03",
   "metadata": {},
   "outputs": [
    {
     "data": {
      "image/png": "[encoded data removed]",
      "text/plain": [
       "<Figure size 576x432 with 1 Axes>"
      ]
     },
     "metadata": {
      "needs_background": "light"
     },
     "output_type": "display_data"
    }
   ],
   "source": [
    "plt.figure(figsize=(8,6))\n",
    "sns.barplot(x='RAM Size', y='Price', data=df)\n",
    "plt.show()"
   ]
  },
  {
   "cell_type": "code",
   "execution_count": 83,
   "id": "f4707935",
   "metadata": {},
   "outputs": [
    {
     "data": {
      "image/png": "[encoded data removed]",
      "text/plain": [
       "<Figure size 576x432 with 1 Axes>"
      ]
     },
     "metadata": {
      "needs_background": "light"
     },
     "output_type": "display_data"
    }
   ],
   "source": [
    "plt.figure(figsize=(8,6))\n",
    "sns.barplot(x='Disk Type', y='Price', data=df)\n",
    "plt.show()"
   ]
  },
  {
   "cell_type": "code",
   "execution_count": 84,
   "id": "c3086d2d",
   "metadata": {},
   "outputs": [
    {
     "data": {
      "image/png": "[encoded data removed]",
      "text/plain": [
       "<Figure size 576x432 with 1 Axes>"
      ]
     },
     "metadata": {
      "needs_background": "light"
     },
     "output_type": "display_data"
    }
   ],
   "source": [
    "plt.figure(figsize=(8,6))\n",
    "sns.barplot(x='Disk Size', y='Price', data=df)\n",
    "plt.show()"
   ]
  },
  {
   "cell_type": "code",
   "execution_count": 85,
   "id": "0db139bf",
   "metadata": {},
   "outputs": [
    {
     "data": {
      "image/png": "[encoded data removed]",
      "text/plain": [
       "<Figure size 576x432 with 1 Axes>"
      ]
     },
     "metadata": {
      "needs_background": "light"
     },
     "output_type": "display_data"
    }
   ],
   "source": [
    "plt.figure(figsize=(8,6))\n",
    "sns.barplot(x='Warranty', y='Price', data=df)\n",
    "plt.show()"
   ]
  },
  {
   "cell_type": "code",
   "execution_count": null,
   "id": "acdb7f4e",
   "metadata": {},
   "outputs": [],
   "source": []
  }
 ],
 "metadata": {
  "kernelspec": {
   "display_name": "Python 3 (ipykernel)",
   "language": "python",
   "name": "python3"
  },
  "language_info": {
   "codemirror_mode": {
    "name": "ipython",
    "version": 3
   },
   "file_extension": ".py",
   "mimetype": "text/x-python",
   "name": "python",
   "nbconvert_exporter": "python",
   "pygments_lexer": "ipython3",
   "version": "3.10.5"
  }
 },
 "nbformat": 4,
 "nbformat_minor": 5
}
